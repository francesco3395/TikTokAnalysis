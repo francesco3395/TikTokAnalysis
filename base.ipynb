{
 "cells": [
  {
   "cell_type": "markdown",
   "id": "407a600b",
   "metadata": {},
   "source": [
    "### Librerie"
   ]
  },
  {
   "cell_type": "code",
   "execution_count": 1,
   "id": "840aab72",
   "metadata": {},
   "outputs": [],
   "source": [
    "import requests\n",
    "import time\n",
    "from datetime import datetime\n",
    "import json\n",
    "import os\n",
    "import matplotlib.pyplot as plt\n",
    "import pandas as pd\n",
    "from statistics import mean\n",
    "from ratelimit import limits, RateLimitException, sleep_and_retry\n",
    "from concurrent.futures import ThreadPoolExecutor as PoolExecutor\n",
    "from urllib.parse import urlparse\n",
    "from urllib.parse import parse_qs\n",
    "import re\n",
    "import sys\n",
    "import copy\n",
    "import emoji\n",
    "import functools\n",
    "import seaborn as sns\n",
    "import shutil"
   ]
  },
  {
   "cell_type": "code",
   "execution_count": 195,
   "id": "3e2200f2",
   "metadata": {},
   "outputs": [],
   "source": [
    "replace_emoji = lambda x: emoji.replace_emoji(x).strip()"
   ]
  },
  {
   "cell_type": "code",
   "execution_count": 4,
   "id": "1392c4b2",
   "metadata": {},
   "outputs": [],
   "source": [
    "ONE_SECOND = 1\n",
    "TEN_SECONDS = 10\n",
    "MAX_CALLS_PER_PERIOD = 0.9"
   ]
  },
  {
   "cell_type": "markdown",
   "id": "76d039cd",
   "metadata": {},
   "source": [
    "### API"
   ]
  },
  {
   "cell_type": "code",
   "execution_count": 15,
   "id": "9edbd399",
   "metadata": {},
   "outputs": [],
   "source": [
    "@sleep_and_retry\n",
    "@limits(calls=MAX_CALLS_PER_PERIOD, period=ONE_SECOND)\n",
    "def get_from_api(api,params,**kwargs):\n",
    "    domain='https://www.tikwm.com/api/'\n",
    "    res = requests.get(\n",
    "    url=domain+api,\n",
    "    params = params,\n",
    "    **kwargs)\n",
    "    try:\n",
    "        if res.status_code==429: return (res,None)\n",
    "        return (res, res.json()['data']) if res.json()['code'] == 0 else (res, None)\n",
    "    except:\n",
    "        print(\"log\")\n",
    "        with open(\"log.txt\",\"a\") as f:\n",
    "            f.write(str(res.status_code))\n",
    "            f.write(str(res.json()))\n",
    "            f.write(\"\")            \n",
    "        return (None,None)\n",
    "\n",
    "def get_video_info(url,**kwargs):\n",
    "    return get_from_api('', params={\"url\": url,\"web\": 1, \"hd\": 1},**kwargs)\n",
    "\n",
    "def get_user_info(unique_id,**kwargs):\n",
    "    return get_from_api(\"user/info/\", params={\"unique_id\": unique_id},**kwargs)\n",
    "\n",
    "def get_user_similar(user,count=50,**kwargs):\n",
    "    return get_from_api(\"user/discover/\", params={\"unique_id\": user,\"count\":count},**kwargs)\n",
    "\n",
    "def get_user_video(unique_id, cursor=0, count=35,**kwargs):\n",
    "    return get_from_api(\"user/posts/\", params={\"unique_id\": unique_id, \"count\": count, \"cursor\": cursor,\"web\": 1, \"hd\": 1},**kwargs)\n",
    "\n",
    "def get_user_following(user_id, time=0, count=200, **kwargs):\n",
    "    return get_from_api(\"user/following/\", params={\"user_id\": user_id, \"count\": count, \"time\": time},**kwargs)\n",
    "\n",
    "def get_user_followers(user_id, time=0,count=200,**kwargs):\n",
    "    return get_from_api(\"user/followers/\", params={\"user_id\": user_id, \"count\": count, \"time\": time},**kwargs)\n",
    "\n",
    "def get_region(**kwargs):\n",
    "    return get_from_api(\"region/\", params={},**kwargs)\n",
    "\n",
    "def get_comments(url, cursor=0,count=50, **kwargs):\n",
    "    return get_from_api(\"comment/list/\", params={\"url\": url, \"count\": count, \"cursor\": cursor},**kwargs)\n",
    "\n",
    "def get_replies(comment_id, cursor=0,count=50, **kwargs):\n",
    "    return get_from_api(\"comment/reply/\", params={\"comment_id\": comment_id, \"count\": count, \"cursor\": cursor},**kwargs)\n",
    "\n",
    "def get_favorite(user, cursor=0,count=35, **kwargs):\n",
    "    return get_from_api(\"favorite/list/\", params={\"unique_id\": user, \"count\": count, \"cursor\": cursor},**kwargs)\n",
    "\n",
    "@sleep_and_retry\n",
    "@limits(calls=1, period=10)\n",
    "def get_video_by_keywords(keywords, cursor=0,count=30, **kwargs):\n",
    "    return get_from_api(\"feed/search\", params={\"keywords\": keywords, \"count\": count, \"cursor\": cursor,\"web\": 1, \"hd\": 1},**kwargs)"
   ]
  },
  {
   "cell_type": "code",
   "execution_count": 6,
   "id": "680ebad9",
   "metadata": {},
   "outputs": [],
   "source": [
    "def get_params(url):\n",
    "    return {key:value[0] for key,value in parse_qs(urlparse(url).query).items()}"
   ]
  },
  {
   "cell_type": "markdown",
   "id": "e07f06f8",
   "metadata": {},
   "source": [
    "### Profili"
   ]
  },
  {
   "cell_type": "code",
   "execution_count": 3,
   "id": "0ce617fe",
   "metadata": {},
   "outputs": [],
   "source": [
    "profili=[\"lilyebert\",\"tovafriedman\",\"thetrueadventures\"]"
   ]
  },
  {
   "cell_type": "markdown",
   "id": "16738dbb",
   "metadata": {},
   "source": [
    "### Inizializzazione dizionario / caricamento"
   ]
  },
  {
   "cell_type": "code",
   "execution_count": null,
   "id": "dfda8c1f",
   "metadata": {},
   "outputs": [],
   "source": [
    "profili_analizzati={p:{\"video\":{}} for p in profili}"
   ]
  },
  {
   "cell_type": "markdown",
   "id": "0567ecbf",
   "metadata": {},
   "source": [
    "### Estrazioni informazioni profilo"
   ]
  },
  {
   "cell_type": "code",
   "execution_count": null,
   "id": "6dbbe04d",
   "metadata": {},
   "outputs": [],
   "source": [
    "lista_pool=profili.copy()\n",
    "lista_pool_tmp=[]\n",
    "stampa=True\n",
    "with PoolExecutor(max_workers=8) as executor:\n",
    "    while len(lista_pool) > 0:\n",
    "        for pool_value,(res,data) in zip(lista_pool,executor.map(get_user_info, lista_pool)):\n",
    "            p=pool_value\n",
    "            if data is None:\n",
    "                lista_pool_tmp.append(p)\n",
    "                if stampa: print(f\"Waiting for API, {p = }\")\n",
    "                continue\n",
    "            if stampa: print(f\"Success {p = }\")\n",
    "            profili_analizzati[p][\"info\"]=data\n",
    "        lista_pool=lista_pool_tmp.copy()\n",
    "        lista_pool_tmp=[]"
   ]
  },
  {
   "cell_type": "markdown",
   "id": "40a49997",
   "metadata": {},
   "source": [
    "### Estrazione video profilo"
   ]
  },
  {
   "cell_type": "code",
   "execution_count": null,
   "id": "180792f7",
   "metadata": {
    "collapsed": true
   },
   "outputs": [],
   "source": [
    "lista_pool=[[profilo,0] for profilo in profili]\n",
    "lista_pool_tmp=[]\n",
    "stampa=True\n",
    "with PoolExecutor(max_workers=8) as executor:     \n",
    "    while lista_pool:\n",
    "        for pool_value,(res,data) in zip(lista_pool,executor.map(get_user_video, *zip(*lista_pool))):\n",
    "            pbar.update(1)\n",
    "            p=pool_value[0]\n",
    "            cursor=pool_value[1]\n",
    "            if data is None:\n",
    "                lista_pool_tmp.append(pool_value)\n",
    "                if stampa: print(f\"Waiting for API, {p = }\")\n",
    "                continue\n",
    "            if stampa: print(f\"Success {p = } {cursor = }\")\n",
    "            for video in data['videos']:\n",
    "                d_temp={}\n",
    "                d_temp[video[\"video_id\"]]=video\n",
    "                d_temp[video[\"video_id\"]].pop(\"video_id\")\n",
    "                profili_analizzati[p][\"video\"].update(d_temp)\n",
    "            if data['hasMore']:\n",
    "                lista_pool_tmp.append([p,data['cursor']])\n",
    "        lista_pool=lista_pool_tmp.copy()\n",
    "        lista_pool_tmp=[]"
   ]
  },
  {
   "cell_type": "markdown",
   "id": "353afd3f",
   "metadata": {},
   "source": [
    "### Salvataggio dizionario info e video / caricamento"
   ]
  },
  {
   "cell_type": "code",
   "execution_count": 45,
   "id": "0fb9517a",
   "metadata": {},
   "outputs": [],
   "source": [
    "json.dump(profili_analizzati,open(\"profili_analizzati_info_video.json\",\"w\"),indent=4)"
   ]
  },
  {
   "cell_type": "markdown",
   "id": "c8a36e25",
   "metadata": {},
   "source": [
    "### Inizializzazione dizionario commenti / caricamento"
   ]
  },
  {
   "cell_type": "code",
   "execution_count": 158,
   "id": "17ca36e2",
   "metadata": {},
   "outputs": [],
   "source": [
    "dict_commenti={p:{video_id:{} for video_id in profili_analizzati[p][\"video\"].keys()} for p in profili}"
   ]
  },
  {
   "cell_type": "code",
   "execution_count": null,
   "id": "86555eed",
   "metadata": {},
   "outputs": [],
   "source": [
    "stampa=False \n",
    "for p in profili:\n",
    "    with PoolExecutor(max_workers=8) as executor:   \n",
    "        lista_pool=[[video_id,0] for video_id in dict_commenti[p].keys()]\n",
    "        lista_pool_tmp=[] \n",
    "        while lista_pool:\n",
    "            for pool_value,(res,data) in zip(lista_pool,executor.map(get_comments, *zip(*lista_pool))):\n",
    "                video_id=pool_value[0]\n",
    "                cursor=pool_value[1]\n",
    "                if data is None:\n",
    "                    lista_pool_tmp.append(pool_value)\n",
    "                    if stampa: print(f\"Waiting for API, {video_id = } {cursor = }\")\n",
    "                    continue\n",
    "                if stampa: print(f\"Success {p = } {cursor = }\")\n",
    "                for commento in data['comments']:\n",
    "                    d_temp={}\n",
    "                    d_temp[commento[\"id\"]]=commento\n",
    "                    d_temp[commento[\"id\"]].pop(\"id\")\n",
    "                    dict_commenti[p][video_id].update(d_temp)\n",
    "                if data['hasMore']:\n",
    "                    lista_pool_tmp.append([video_id,data['cursor']])\n",
    "            lista_pool=lista_pool_tmp.copy()\n",
    "            lista_pool_tmp=[]"
   ]
  },
  {
   "cell_type": "code",
   "execution_count": null,
   "id": "8c3f9192",
   "metadata": {},
   "outputs": [],
   "source": [
    "json.dump(dict_commenti,open(\"dictCommenti.json\",\"w\"))"
   ]
  },
  {
   "cell_type": "markdown",
   "id": "c0ca5b65",
   "metadata": {},
   "source": [
    "## Analisi per:\n",
    "- like\n",
    "- like normalizzato (/visualizzazioni)\n",
    "- ratio (comment/like)"
   ]
  },
  {
   "cell_type": "code",
   "execution_count": 5,
   "id": "72cce4b7",
   "metadata": {},
   "outputs": [],
   "source": [
    "base_tiktok_video=\"https://www.tiktok.com/@{}/video/{}\""
   ]
  },
  {
   "cell_type": "code",
   "execution_count": 73,
   "id": "801d604f",
   "metadata": {},
   "outputs": [],
   "source": [
    "dfVideo=pd.DataFrame({\n",
    "      \"id\":base_tiktok_video.format(p,key),\n",
    "      \"profile\":p,\n",
    "      \"createTime\":datetime.fromtimestamp(video[\"create_time\"]),\n",
    "      \"playCount\":video[\"play_count\"],\n",
    "      \"likeCount\":video[\"digg_count\"],\n",
    "      \"likeCountNormalized\":video[\"digg_count\"]/video[\"play_count\"],\n",
    "      \"commentCount\":video[\"comment_count\"],\n",
    "      \"music_id\":video[\"music_info\"][\"id\"] if \"music_info\" in video else None,\n",
    "      \"music_title\":video[\"music_info\"][\"title\"] if \"music_info\" in video else None,\n",
    "      #\"realCommentCount\":len(dict_commenti[p][key]),\n",
    "      #\"replyCount\":sum([commento[\"reply_total\"] for id_commento,commento in dict_commenti[p][key].items()]),\n",
    "      #\"realReplyCommentCount\":sum([len(d_r) for id_commento,d_r in dictRisposteMm[p][key].items()]) if key in b else 0,\n",
    "      \"commentCountNormalized\":video[\"comment_count\"]/video[\"play_count\"],\n",
    "      \"shareCount\":video[\"share_count\"],\n",
    "      \"shareCountNormalized\":video[\"share_count\"]/video[\"play_count\"],\n",
    "      \"downloadCount\":video[\"download_count\"],\n",
    "      \"downloadCountNormalized\":video[\"download_count\"]/video[\"play_count\"],\n",
    "      \"ratio (comment/like)\":video[\"comment_count\"]/video[\"digg_count\"],\n",
    "      } for p in profili for key,video in profili_analizzati_completo[p][\"video\"].items()).set_index(\"id\")"
   ]
  },
  {
   "cell_type": "code",
   "execution_count": 152,
   "id": "f1682274",
   "metadata": {},
   "outputs": [],
   "source": [
    "start_date = datetime(2021, 10, 1)\n",
    "end_date = datetime(2022, 10, 1)"
   ]
  },
  {
   "cell_type": "code",
   "execution_count": 74,
   "id": "ef3ff318",
   "metadata": {},
   "outputs": [],
   "source": [
    "dfVideoRange=dfVideo[(dfVideo.createTime <= end_date) & (dfVideo.createTime >= start_date)]"
   ]
  },
  {
   "cell_type": "code",
   "execution_count": 52,
   "id": "0f1f4392",
   "metadata": {},
   "outputs": [],
   "source": [
    "lista_analisi2=set()\n",
    "\n",
    "for p in profili:\n",
    "    dfTmp=dfVideoRange[dfVideoRange.profile==p].copy().drop(columns=[\"profile\"])\n",
    "    \n",
    "    lcM=dfTmp.sort_values(by=\"likeCount\",ascending=False).head(10)\n",
    "    lcM.to_html(f\"{p}_likeCount2Ma.html\")\n",
    "    lista_analisi2.update(lcM.index.to_list())\n",
    "    \n",
    "    lcm=dfTmp.sort_values(by=\"likeCount\",ascending=True).head(10)\n",
    "    lcm.to_html(f\"{p}_likeCount2mi.html\")\n",
    "    lista_analisi2.update(lcm.index.to_list())\n",
    "    \n",
    "    ccM=dfTmp.sort_values(by=\"commentCount\",ascending=False).head(10)\n",
    "    ccM.to_html(f\"{p}_commentCount2Ma.html\")\n",
    "    lista_analisi2.update(ccM.index.to_list())\n",
    "    \n",
    "    ccm=dfTmp.sort_values(by=\"commentCount\",ascending=True).head(10)\n",
    "    ccm.to_html(f\"{p}_commentCount2mi.html\")\n",
    "    lista_analisi2.update(ccm.index.to_list())\n",
    "\n",
    "json.dump(list(lista_analisi2),open(\"lista_analisi.txt\",\"w\"))"
   ]
  },
  {
   "cell_type": "code",
   "execution_count": 10,
   "id": "42c60482",
   "metadata": {},
   "outputs": [],
   "source": [
    "listaVideoInteressanti_profilo_video=[(video.split(\"/\")[-3][1:],video.split(\"/\")[-1]) for video in listaVideoInteressanti_file]"
   ]
  },
  {
   "cell_type": "markdown",
   "id": "96652e0d",
   "metadata": {},
   "source": [
    "### Risposte commenti"
   ]
  },
  {
   "cell_type": "code",
   "execution_count": null,
   "id": "dab8e69f",
   "metadata": {},
   "outputs": [],
   "source": [
    "a,b=zip(*listaVideoInteressanti_profilo_video)"
   ]
  },
  {
   "cell_type": "code",
   "execution_count": 236,
   "id": "b78c16d6",
   "metadata": {},
   "outputs": [],
   "source": [
    "dictRisposte={p:{id_v:{id_c:{} for id_c,info_c in d_comm.items()} for id_v,d_comm in d_video.items() if id_v in b}for p,d_video in dict_commenti.items()}"
   ]
  },
  {
   "cell_type": "code",
   "execution_count": 40,
   "id": "dd907e88",
   "metadata": {},
   "outputs": [
    {
     "data": {
      "application/vnd.jupyter.widget-view+json": {
       "model_id": "c195252bbade47618017746d97c91907",
       "version_major": 2,
       "version_minor": 0
      },
      "text/plain": [
       "  0%|          | 0/84 [00:00<?, ?it/s]"
      ]
     },
     "metadata": {},
     "output_type": "display_data"
    }
   ],
   "source": [
    "stampa=False\n",
    "with PoolExecutor(max_workers=8) as executor:\n",
    "    for p,id_v in listaVideoInteressanti_profilo_video:\n",
    "        lista_pool=[[id_c,0] for id_c in dictRisposte[p][id_v].keys()]\n",
    "        lista_pool_tmp=[] \n",
    "        while lista_pool:\n",
    "            for pool_value,(res,data) in zip(lista_pool,executor.map(get_replies, *zip(*lista_pool))):\n",
    "                id_c=pool_value[0]\n",
    "                cursor=pool_value[1]\n",
    "                if data is None:\n",
    "                    lista_pool_tmp.append(pool_value)\n",
    "                    if stampa: print(f\"Waiting for API, {video_id = } {cursor = }\")\n",
    "                    continue\n",
    "                if stampa: print(f\"Success {p = } {cursor = }\")\n",
    "                for risposta in data['comments']:\n",
    "                    d_temp={}\n",
    "                    d_temp[risposta[\"id\"]]=risposta\n",
    "                    d_temp[risposta[\"id\"]].pop(\"id\")\n",
    "                    dictRisposte[p][id_v][id_c].update(d_temp)\n",
    "                if data['hasMore']:\n",
    "                    lista_pool_tmp.append([id_c,data['cursor']])\n",
    "            lista_pool=lista_pool_tmp.copy()\n",
    "            lista_pool_tmp=[]"
   ]
  },
  {
   "cell_type": "code",
   "execution_count": 401,
   "id": "d0aafc5c",
   "metadata": {},
   "outputs": [],
   "source": [
    "json.dump(dictRisposte,open(\"dictRisposte.json\",\"w\"))"
   ]
  },
  {
   "cell_type": "markdown",
   "id": "abb75957",
   "metadata": {},
   "source": [
    "### Estrazione followers"
   ]
  },
  {
   "cell_type": "code",
   "execution_count": 94,
   "id": "3bb003a7",
   "metadata": {},
   "outputs": [],
   "source": [
    "list_followers={}\n",
    "data=\"2022-12-27\""
   ]
  },
  {
   "cell_type": "code",
   "execution_count": null,
   "id": "040763e3",
   "metadata": {},
   "outputs": [],
   "source": [
    "stampa=False\n",
    "for p in profili:\n",
    "    list_followers_id=[follower[\"id\"] for follower in list_followers[p]]\n",
    "    time_api=None\n",
    "    n_f=True\n",
    "    user_id=profili_analizzati[p][\"info\"][\"user\"][\"id\"]\n",
    "    while True:\n",
    "        if time_api is None:\n",
    "            res,foll=get_user_followers(user_id)\n",
    "        else:\n",
    "            res,foll=get_user_followers(user_id,time=time_api)\n",
    "        time.sleep(1)\n",
    "        if foll is None: \n",
    "            print(f\"Waiting API, {len(list_followers_id):}\")\n",
    "            continue\n",
    "        for f in foll[\"followers\"]:\n",
    "            if f[\"id\"] not in list_followers_id:\n",
    "                if n_f:\n",
    "                    print(\"new follower\")\n",
    "                    n_f=False\n",
    "                list_followers[p].append(f)\n",
    "                list_followers_id.append(f[\"id\"])\n",
    "        if foll[\"hasMore\"]:\n",
    "            time_api=foll[\"time\"]\n",
    "        else:\n",
    "            break"
   ]
  },
  {
   "cell_type": "code",
   "execution_count": 499,
   "id": "b9bfdd74",
   "metadata": {},
   "outputs": [],
   "source": [
    "dictFollower={p:{} for p in profili}"
   ]
  },
  {
   "cell_type": "code",
   "execution_count": 500,
   "id": "dcf25032",
   "metadata": {},
   "outputs": [],
   "source": [
    "idToP={profili_analizzati[p][\"info\"][\"user\"][\"id\"]:p for p in profili}"
   ]
  },
  {
   "cell_type": "code",
   "execution_count": 502,
   "id": "315f0806",
   "metadata": {},
   "outputs": [],
   "source": [
    "stampa=False\n",
    "with PoolExecutor(max_workers=8) as executor:\n",
    "    lista_pool=[[profili_analizzati[profilo][\"info\"][\"user\"][\"id\"],0] for profilo in profili]\n",
    "    lista_pool_tmp=[] \n",
    "    while lista_pool:\n",
    "        for pool_value,(res,data) in zip(lista_pool,executor.map(get_user_followers, *zip(*lista_pool))):\n",
    "            profilo=pool_value[0]\n",
    "            time=pool_value[1]\n",
    "            if data is None:\n",
    "                lista_pool_tmp.append(pool_value)\n",
    "                if stampa: print(f\"Waiting for API, {profilo = } {time = }\")\n",
    "                continue\n",
    "            if stampa: print(f\"Success {profilo = } {time = }\")\n",
    "            for follower in data['followers']:\n",
    "                d_temp={}\n",
    "                d_temp[follower[\"id\"]]=follower\n",
    "                d_temp[follower[\"id\"]].pop(\"id\")\n",
    "                dictFollower[idToP[profilo]].update(d_temp)\n",
    "            if data['hasMore']:\n",
    "                lista_pool_tmp.append([profilo,data['time']])\n",
    "        lista_pool=lista_pool_tmp.copy()\n",
    "        lista_pool_tmp=[]"
   ]
  },
  {
   "cell_type": "markdown",
   "id": "d7cb4d7c",
   "metadata": {},
   "source": [
    "### Estrazione following"
   ]
  },
  {
   "cell_type": "code",
   "execution_count": 100,
   "id": "3c3fa758",
   "metadata": {},
   "outputs": [],
   "source": [
    "list_following={}\n",
    "data=\"2022-11-08\""
   ]
  },
  {
   "cell_type": "code",
   "execution_count": null,
   "id": "0d04fcf0",
   "metadata": {},
   "outputs": [],
   "source": [
    "stampa=False\n",
    "for p in profili:\n",
    "    try:\n",
    "        list_following_id=[followed[\"id\"] for followed in list_following[p]]\n",
    "    except:\n",
    "        list_following_id=[]\n",
    "    time_api=None\n",
    "    n_f=True\n",
    "    user_id=profili_analizzati[p][\"info\"][\"user\"][\"id\"]\n",
    "    while True:\n",
    "        if time_api is None:\n",
    "            res,foll=get_user_following(user_id)\n",
    "        else:\n",
    "            res,foll=get_user_following(user_id,time=time_api)\n",
    "        time.sleep(1)\n",
    "        if foll is None: \n",
    "            print(f\"Waiting API, {len(list_following_id):}\")\n",
    "            continue\n",
    "        for f in foll[\"followings\"]:\n",
    "            if f[\"id\"] not in list_following_id:\n",
    "                if n_f:\n",
    "                    print(\"new follower\")\n",
    "                    n_f=False\n",
    "                if p not in list_following:\n",
    "                    list_following[p]=[]\n",
    "                list_following[p].append(f)\n",
    "                list_following_id.append(f[\"id\"])\n",
    "        if foll[\"hasMore\"]:\n",
    "            time_api=foll[\"time\"]\n",
    "        else:\n",
    "            break"
   ]
  },
  {
   "cell_type": "code",
   "execution_count": 114,
   "id": "a43a911f",
   "metadata": {},
   "outputs": [],
   "source": [
    "json.dump(list_following,open(f\"following/{today()}/list_of_following.json\", \"w\"))"
   ]
  },
  {
   "cell_type": "markdown",
   "id": "f4420e82",
   "metadata": {},
   "source": [
    "### Estrazione suggeriti"
   ]
  },
  {
   "cell_type": "code",
   "execution_count": 20,
   "id": "249ef119",
   "metadata": {},
   "outputs": [],
   "source": [
    "similari={}"
   ]
  },
  {
   "cell_type": "code",
   "execution_count": 22,
   "id": "1c1124f2",
   "metadata": {},
   "outputs": [],
   "source": [
    "stampa=False\n",
    "for p in profili:\n",
    "    while True:\n",
    "        res,similar=get_user_similar(p)\n",
    "        time.sleep(10)\n",
    "        if similar is None: \n",
    "            print(f\"Waiting API, {p = }\")\n",
    "            continue\n",
    "        similari[p]=similar\n",
    "        break"
   ]
  },
  {
   "cell_type": "code",
   "execution_count": 30,
   "id": "1ce4ceac",
   "metadata": {},
   "outputs": [],
   "source": [
    "new_folder(f\"similari/{today()}\")\n",
    "json.dump(similari,open(f\"similari/{today()}/similar.json\", \"w\"))"
   ]
  },
  {
   "cell_type": "code",
   "execution_count": 37,
   "id": "929f9245",
   "metadata": {},
   "outputs": [],
   "source": [
    "for profilo,similar in similari.items():\n",
    "    with open(f\"similari/{today()}/{profilo}.txt\",\"w\") as f:\n",
    "        for s in similar:\n",
    "            f.write(s[\"user\"][\"uniqueId\"])\n",
    "            f.write(\"\\n\")"
   ]
  },
  {
   "cell_type": "code",
   "execution_count": null,
   "id": "8f0b85bb",
   "metadata": {},
   "outputs": [],
   "source": [
    "simL=json.load(open(\"similari/lilyebert.json\",\"r\"))\n",
    "simT=json.load(open(\"similari/tovafriedman.json\",\"r\"))\n",
    "simTT=json.load(open(\"similari/thetrueadventures.json\",\"r\"))"
   ]
  },
  {
   "cell_type": "markdown",
   "id": "fec52485",
   "metadata": {},
   "source": [
    "## Analisi Sentiment"
   ]
  },
  {
   "cell_type": "markdown",
   "id": "622669f9",
   "metadata": {},
   "source": [
    "#### Rilevazione lingua"
   ]
  },
  {
   "cell_type": "code",
   "execution_count": 407,
   "id": "4222ae81",
   "metadata": {},
   "outputs": [],
   "source": [
    "import fasttext\n",
    "fasttext.FastText.eprint = lambda x: None\n",
    "model = fasttext.load_model(\"../models/lid.176.bin\")"
   ]
  },
  {
   "cell_type": "code",
   "execution_count": 408,
   "id": "f88dfba5",
   "metadata": {},
   "outputs": [],
   "source": [
    "detect_language_fasttext=lambda text: model.predict(text.replace(\"\\n\",\" \"))[0][0].replace(\"__label__\",\"\")"
   ]
  },
  {
   "cell_type": "markdown",
   "id": "a1e7aeb2",
   "metadata": {},
   "source": [
    "#### Divisione commenti inglese e non"
   ]
  },
  {
   "cell_type": "code",
   "execution_count": null,
   "id": "8ed5afbd",
   "metadata": {},
   "outputs": [],
   "source": [
    "sentiment_en={}\n",
    "sentiment_no_en={}\n",
    "for profilo,d_video in dict_commenti.items():\n",
    "    for id_video,d_commenti in d_video.items():\n",
    "        for id_commento,commento in d_commenti.items():\n",
    "            if commento[\"text\"]:\n",
    "                text_no_emoji=replace_emoji(commento[\"text\"])\n",
    "                if text_no_emoji and detect_language_fasttext(text_no_emoji)!=\"en\":\n",
    "                    if profilo not in sentiment_no_en:\n",
    "                        sentiment_no_en[profilo]={}\n",
    "                    if id_video not in sentiment_no_en[profilo]:\n",
    "                        sentiment_no_en[profilo][id_video]={}\n",
    "                    sentiment_no_en[profilo][id_video][id_commento]={\n",
    "                        \"text\": commento[\"text\"], \n",
    "                        \"region\": commento[\"user\"][\"region\"]\n",
    "                    }\n",
    "                else:\n",
    "                    if profilo not in sentiment_en:\n",
    "                        sentiment_en[profilo]={}\n",
    "                    if id_video not in sentiment_en[profilo]:\n",
    "                        sentiment_en[profilo][id_video]={}\n",
    "                    sentiment_en[profilo][id_video][id_commento]={\n",
    "                        \"text\": commento[\"text\"], \n",
    "                        \"region\": commento[\"user\"][\"region\"]\n",
    "                    }"
   ]
  },
  {
   "cell_type": "code",
   "execution_count": 429,
   "id": "af2ee941",
   "metadata": {},
   "outputs": [],
   "source": [
    "json.dump(sentiment_en,open(\"commenti/commenti_en.json\",\"w\"))\n",
    "\n",
    "json.dump(sentiment_no_en,open(\"commenti/commenti_no_en.json\",\"w\"))"
   ]
  },
  {
   "cell_type": "markdown",
   "id": "7f9c1995",
   "metadata": {},
   "source": [
    "#### Divisione risposte commenti inglese e non"
   ]
  },
  {
   "cell_type": "code",
   "execution_count": null,
   "id": "9c8766e8",
   "metadata": {},
   "outputs": [],
   "source": [
    "sentiment_en={}\n",
    "sentiment_no_en={}\n",
    "for profilo,d_video in dictRisposte.items():\n",
    "    for id_video,d_commenti in d_video.items():\n",
    "        for id_commento,d_risposte in d_commenti.items():\n",
    "            for id_risposta,risposta in d_risposte.items(): \n",
    "                if risposta[\"text\"]:\n",
    "                    text_no_emoji=replace_emoji(risposta[\"text\"])\n",
    "                    if text_no_emoji and detect_language_fasttext(text_no_emoji)!=\"en\":\n",
    "                        if profilo not in sentiment_no_en:\n",
    "                            sentiment_no_en[profilo]={}\n",
    "                        if id_video not in sentiment_no_en[profilo]:\n",
    "                            sentiment_no_en[profilo][id_video]={}\n",
    "                        if id_commento not in sentiment_no_en[profilo][id_video]:\n",
    "                            sentiment_no_en[profilo][id_video][id_commento]={}      \n",
    "                        sentiment_no_en[profilo][id_video][id_commento][id_risposta]={\n",
    "                            \"text\": risposta[\"text\"], \n",
    "                            \"region\": risposta[\"user\"][\"region\"]\n",
    "                        }\n",
    "                    else:\n",
    "                        if profilo not in sentiment_en:\n",
    "                            sentiment_en[profilo]={}\n",
    "                        if id_video not in sentiment_en[profilo]:\n",
    "                            sentiment_en[profilo][id_video]={}\n",
    "                        if id_commento not in sentiment_en[profilo][id_video]:\n",
    "                            sentiment_en[profilo][id_video][id_commento]={}      \n",
    "                        sentiment_en[profilo][id_video][id_commento][id_risposta]={\n",
    "                            \"text\": risposta[\"text\"], \n",
    "                            \"region\": risposta[\"user\"][\"region\"]\n",
    "                        }"
   ]
  },
  {
   "cell_type": "code",
   "execution_count": 438,
   "id": "50db5ed7",
   "metadata": {},
   "outputs": [],
   "source": [
    "json.dump(sentiment_en,open(\"risposte/risposte_en.json\",\"w\"))\n",
    "\n",
    "json.dump(sentiment_no_en,open(\"risposte/risposte_no_en.json\",\"w\"))"
   ]
  },
  {
   "cell_type": "code",
   "execution_count": 6,
   "id": "9b2e2469",
   "metadata": {},
   "outputs": [],
   "source": [
    "profili_analizzati_completo=json.load(open(\"principaleprofili/profili_analizzati_completo(sentiment_commenti_risposte_en).json\",\"r\"))"
   ]
  },
  {
   "cell_type": "markdown",
   "id": "a08f4a15",
   "metadata": {},
   "source": [
    "### Analisi dati"
   ]
  },
  {
   "cell_type": "markdown",
   "id": "62864b92",
   "metadata": {},
   "source": [
    "#### Dataframe\n",
    "- idVideo\n",
    "- idCommento\n",
    "- sentiment vader"
   ]
  },
  {
   "cell_type": "code",
   "execution_count": 7,
   "id": "0482e4d6",
   "metadata": {},
   "outputs": [],
   "source": [
    "dfSentimentEmotionHateCommenti=pd.DataFrame([{\n",
    "    \"profiloVideo\":profilo,\n",
    "    \"idVideo\":base_tiktok_video.format(profilo,id_video),\n",
    "    \"dateVideo\":datetime.fromtimestamp(video[\"create_time\"]),\n",
    "    \"idCommento\":id_commento,\n",
    "    \"dateCommento\":datetime.fromtimestamp(commento[\"create_time\"]),\n",
    "    \"profiloCommento\":commento[\"user\"][\"unique_id\"],\n",
    "    \"text\":commento[\"text\"],\n",
    "    \"sentiment_vader\":commento[\"sentiment_vader\"],\n",
    "    \"hate_speech\":commento[\"hate_speech\"][\"classes\"][\"hate_speech\"],\n",
    "    \"offensive_language\":commento[\"hate_speech\"][\"classes\"][\"offensive_language\"],\n",
    "    \"neither\":commento[\"hate_speech\"][\"classes\"][\"neither\"],\n",
    "    \"top_class_hate\":commento[\"hate_speech\"][\"top_class\"],\n",
    "    \"Happy\":commento[\"emotion\"][\"Happy\"],\n",
    "    \"Angry\":commento[\"emotion\"][\"Angry\"],\n",
    "    \"Surprise\":commento[\"emotion\"][\"Surprise\"],\n",
    "    \"Sad\":commento[\"emotion\"][\"Sad\"],\n",
    "    \"Fear\":commento[\"emotion\"][\"Fear\"],\n",
    "    \"top_class_emotion\":list({k: v for k, v in sorted(commento[\"emotion\"].items(), key=lambda item: item[1],reverse=True)}.items())[0],\n",
    "} \n",
    "    for profilo,info_video in profili_analizzati_completo.items() \n",
    "    for id_video,video in info_video[\"video\"].items()\n",
    "    for id_commento,commento in video[\"comment\"].items()\n",
    "    if \"sentiment_vader\" in commento\n",
    "]).set_index([\"idVideo\",\"idCommento\"])"
   ]
  },
  {
   "cell_type": "code",
   "execution_count": 8,
   "id": "0b93f601",
   "metadata": {},
   "outputs": [],
   "source": [
    "dfSentimentEmotionHateCommenti[\"top_class_emotion\"]=dfSentimentEmotionHateCommenti[\"top_class_emotion\"].apply(lambda x: x[0] if x[1] else None)"
   ]
  },
  {
   "cell_type": "code",
   "execution_count": null,
   "id": "2e0129c1",
   "metadata": {},
   "outputs": [],
   "source": [
    "t=dfSentimentEmotionHateCommenti[(dfSentimentEmotionHateCommenti.sentiment_vader<-0.8) & (dfSentimentEmotionHateCommenti.sentiment_vader>-2)].head(50)\n",
    "t.style.set_properties(subset=['text'], **{'width': '300px'})"
   ]
  },
  {
   "cell_type": "code",
   "execution_count": null,
   "id": "e1f13810",
   "metadata": {},
   "outputs": [],
   "source": [
    "dfSentimentEmotionHateCommenti.sort_values(by=\"neither\",ascending=False).head(500).reset_index()[[\"text\",\"hate_speech\",\"offensive_language\",\"neither\",\"top_class_hate\"]].style.set_properties(subset=['text'], **{'width': '300px'})"
   ]
  },
  {
   "cell_type": "code",
   "execution_count": null,
   "id": "60b8e6b9",
   "metadata": {},
   "outputs": [],
   "source": [
    "dfSentimentEmotionHateCommenti.sort_values(by=\"Fear\",ascending=False).head(50).style.set_properties(subset=['text'], **{'width': '300px'})"
   ]
  },
  {
   "cell_type": "code",
   "execution_count": 9,
   "id": "75e47b4e",
   "metadata": {},
   "outputs": [],
   "source": [
    "t=dfSentimentEmotionHateCommenti.groupby([\"profiloVideo\",\"top_class_hate\"]).count()"
   ]
  },
  {
   "cell_type": "code",
   "execution_count": 10,
   "id": "35e23f90",
   "metadata": {},
   "outputs": [],
   "source": [
    "t2=dfSentimentEmotionHateCommenti.groupby([\"profiloVideo\",\"top_class_emotion\"]).count()"
   ]
  },
  {
   "cell_type": "code",
   "execution_count": 11,
   "id": "3542ca6d",
   "metadata": {},
   "outputs": [],
   "source": [
    "# Negative < -0.6\n",
    "# Neutral_Negative -0.2 < x < -0.6\n",
    "# Neutral -0.2 < x < 0.2\n",
    "# Neutral_Positive 0.2 < x < 0.6\n",
    "# Positive > 0.6\n",
    "#dfSentimentEmotionHateCommenti[\"sentiment\"]=dfSentimentEmotionHateCommenti[\"sentiment_vader\"].apply(lambda x: \"1Negative\" if x<-0.6 else (\"2Neutral_Negative\" if x>=-0.6 and x<-0.2 else (\"3Neutral\" if x>=-0.2 and x<0.2 else (\"4Neutral_Positive\" if x>=0.2 and x<0.6 else \"5Positive\"))))\n",
    "# Negative < -0.333\n",
    "# Neutral -0.333 < x < 0.333\n",
    "# Positive > 0.333\n",
    "dfSentimentEmotionHateCommenti[\"sentiment\"]=dfSentimentEmotionHateCommenti[\"sentiment_vader\"].apply(lambda x: \"1Negative\" if x<-0.333 else (\"2Neutral\" if x>=-0.333 and x<0.333 else \"3Positive\"))"
   ]
  },
  {
   "cell_type": "code",
   "execution_count": 12,
   "id": "0445b1fe",
   "metadata": {},
   "outputs": [],
   "source": [
    "t3=dfSentimentEmotionHateCommenti.groupby([\"profiloVideo\",\"sentiment\"]).count()"
   ]
  },
  {
   "cell_type": "code",
   "execution_count": 69,
   "id": "cd8b07c0",
   "metadata": {},
   "outputs": [
    {
     "data": {
      "text/plain": [
       "<AxesSubplot: xlabel='sentiment_vader', ylabel='Count'>"
      ]
     },
     "execution_count": 69,
     "metadata": {},
     "output_type": "execute_result"
    },
    {
     "data": {
      "image/png": "[encoded data removed]",
      "text/plain": [
       "<Figure size 640x480 with 1 Axes>"
      ]
     },
     "metadata": {},
     "output_type": "display_data"
    }
   ],
   "source": [
    "dfTemp=dfSentimentEmotionHateCommenti[dfSentimentEmotionHateCommenti.profiloVideo==profili[0]]\n",
    "sns.histplot(data=dfTemp,x=\"sentiment_vader\",bins=9)"
   ]
  },
  {
   "cell_type": "code",
   "execution_count": 164,
   "id": "d9c92be1",
   "metadata": {},
   "outputs": [
    {
     "name": "stdout",
     "output_type": "stream",
     "text": [
      "thetrueadventures\n"
     ]
    },
    {
     "data": {
      "image/png": "[encoded data removed]",
      "text/plain": [
       "<Figure size 640x480 with 1 Axes>"
      ]
     },
     "metadata": {},
     "output_type": "display_data"
    }
   ],
   "source": [
    "p=2\n",
    "print(profili[p])\n",
    "data = t2.loc[profili[p]].profiloCommento\n",
    "#labels = [v[1:] for v in t3.loc[profili[p]].index]\n",
    "labels = t2.loc[profili[p]].index\n",
    "\n",
    "#define Seaborn color palette to use\n",
    "colors = sns.color_palette('pastel')[0:len(labels)]\n",
    "\n",
    "#create pie chart\n",
    "plt.pie(data, labels = labels, colors = colors, autopct='%1.1f%%', startangle=45,shadow=True)\n",
    "plt.title(profili[p])\n",
    "plt.savefig(\"../../../../../../Desktop/Tesi/Immagini/emotion_\"+profili[p]+\".png\",bbox_inches='tight')"
   ]
  },
  {
   "cell_type": "code",
   "execution_count": 19,
   "id": "1706be73",
   "metadata": {},
   "outputs": [],
   "source": [
    "from datetime import timedelta"
   ]
  },
  {
   "cell_type": "code",
   "execution_count": 30,
   "id": "cd1fe6cb",
   "metadata": {},
   "outputs": [],
   "source": [
    "dfCommenti=pd.DataFrame([{\n",
    "    \"profiloVideo\":profilo,\n",
    "    \"idVideo\":base_tiktok_video.format(profilo,id_video),\n",
    "    \"dateVideo\":datetime.fromtimestamp(video[\"create_time\"]),\n",
    "    \"idCommento\":id_commento,\n",
    "    \"dateCommento\":datetime.fromtimestamp(commento[\"create_time\"]),\n",
    "    \"profiloCommento\":commento[\"user\"][\"unique_id\"],\n",
    "    \"text\":commento[\"text\"],\n",
    "    \"replyCount\":len(commento[\"reply\"]) if \"reply\" in commento else 0,\n",
    "    \"inglese\": \"sentiment_vader\" in commento\n",
    "} \n",
    "    for profilo,info_video in profili_analizzati_completo.items() \n",
    "    for id_video,video in info_video[\"video\"].items()\n",
    "    for id_commento,commento in video[\"comment\"].items()\n",
    "]).set_index([\"idVideo\",\"idCommento\"])"
   ]
  },
  {
   "cell_type": "code",
   "execution_count": 34,
   "id": "c323c3f8",
   "metadata": {},
   "outputs": [],
   "source": [
    "range_date=\"01/10/2021 - 30/09/2022\""
   ]
  },
  {
   "cell_type": "code",
   "execution_count": null,
   "id": "1b5e26b6",
   "metadata": {},
   "outputs": [],
   "source": [
    "for p in profili:\n",
    "    print(p)\n",
    "    dfTemp=dfCommenti[(dfCommenti.profiloVideo==p) & (dfCommenti.dateVideo<=end_date) & (dfCommenti.dateVideo>=start_date)]\n",
    "    print(dfTemp.shape[0])\n",
    "    dfTempInt=dfTemp[(dfTemp.index.get_level_values(0).isin(listaVideoInteressanti_file))]\n",
    "    print(dfTempInt.shape[0])\n",
    "    dfTempIntInglese=dfTempInt[(dfTempInt.inglese)]\n",
    "    print(dfTempIntInglese.shape[0])\n",
    "\n",
    "    dfTempCR=dfTemp[(dfTemp.dateCommento<=end_date) & (dfTemp.dateCommento>=start_date)]\n",
    "    print(dfTempCR.shape[0])\n",
    "    dfTempCRInt=dfTempCR[(dfTempCR.index.get_level_values(0).isin(listaVideoInteressanti_file))]\n",
    "    print(dfTempCRInt.shape[0])\n",
    "    dfTempCRIntInglese=dfTempCRInt[(dfTempCRInt.inglese)]\n",
    "    print(dfTempCRIntInglese.shape[0])"
   ]
  },
  {
   "cell_type": "code",
   "execution_count": 68,
   "id": "fdf0b68e",
   "metadata": {},
   "outputs": [
    {
     "data": {
      "text/html": [
       "<div>\n",
       "<style scoped>\n",
       "    .dataframe tbody tr th:only-of-type {\n",
       "        vertical-align: middle;\n",
       "    }\n",
       "\n",
       "    .dataframe tbody tr th {\n",
       "        vertical-align: top;\n",
       "    }\n",
       "\n",
       "    .dataframe thead th {\n",
       "        text-align: right;\n",
       "    }\n",
       "</style>\n",
       "<table border=\"1\" class=\"dataframe\">\n",
       "  <thead>\n",
       "    <tr style=\"text-align: right;\">\n",
       "      <th></th>\n",
       "      <th></th>\n",
       "      <th>profiloVideo</th>\n",
       "      <th>profiloCommento</th>\n",
       "      <th>text</th>\n",
       "      <th>replyCount</th>\n",
       "    </tr>\n",
       "    <tr>\n",
       "      <th>idVideo</th>\n",
       "      <th>idCommento</th>\n",
       "      <th></th>\n",
       "      <th></th>\n",
       "      <th></th>\n",
       "      <th></th>\n",
       "    </tr>\n",
       "  </thead>\n",
       "  <tbody>\n",
       "    <tr>\n",
       "      <th>https://www.tiktok.com/@lilyebert/video/7175888873959034118</th>\n",
       "      <th>7175971662792672005</th>\n",
       "      <td>lilyebert</td>\n",
       "      <td>lilyebert</td>\n",
       "      <td></td>\n",
       "      <td>0</td>\n",
       "    </tr>\n",
       "    <tr>\n",
       "      <th>https://www.tiktok.com/@lilyebert/video/7174514008312106246</th>\n",
       "      <th>7174835598166311685</th>\n",
       "      <td>lilyebert</td>\n",
       "      <td>lilyebert</td>\n",
       "      <td></td>\n",
       "      <td>0</td>\n",
       "    </tr>\n",
       "    <tr>\n",
       "      <th>https://www.tiktok.com/@lilyebert/video/7174037227465493765</th>\n",
       "      <th>7174791309730300677</th>\n",
       "      <td>lilyebert</td>\n",
       "      <td>lilyebert</td>\n",
       "      <td></td>\n",
       "      <td>0</td>\n",
       "    </tr>\n",
       "    <tr>\n",
       "      <th rowspan=\"6\" valign=\"top\">https://www.tiktok.com/@lilyebert/video/7173668076825677061</th>\n",
       "      <th>7175861608055407366</th>\n",
       "      <td>lilyebert</td>\n",
       "      <td>lilyebert</td>\n",
       "      <td></td>\n",
       "      <td>0</td>\n",
       "    </tr>\n",
       "    <tr>\n",
       "      <th>7175545363741819653</th>\n",
       "      <td>lilyebert</td>\n",
       "      <td>lilyebert</td>\n",
       "      <td></td>\n",
       "      <td>0</td>\n",
       "    </tr>\n",
       "    <tr>\n",
       "      <th>7174692386512126725</th>\n",
       "      <td>lilyebert</td>\n",
       "      <td>lilyebert</td>\n",
       "      <td></td>\n",
       "      <td>0</td>\n",
       "    </tr>\n",
       "    <tr>\n",
       "      <th>7174487877039309573</th>\n",
       "      <td>lilyebert</td>\n",
       "      <td>lilyebert</td>\n",
       "      <td></td>\n",
       "      <td>0</td>\n",
       "    </tr>\n",
       "    <tr>\n",
       "      <th>7174042301210608390</th>\n",
       "      <td>lilyebert</td>\n",
       "      <td>lilyebert</td>\n",
       "      <td></td>\n",
       "      <td>0</td>\n",
       "    </tr>\n",
       "    <tr>\n",
       "      <th>7173993186749776646</th>\n",
       "      <td>lilyebert</td>\n",
       "      <td>lilyebert</td>\n",
       "      <td></td>\n",
       "      <td>0</td>\n",
       "    </tr>\n",
       "    <tr>\n",
       "      <th>https://www.tiktok.com/@lilyebert/video/7169244643601796358</th>\n",
       "      <th>7169576129979384581</th>\n",
       "      <td>lilyebert</td>\n",
       "      <td>lilyebert</td>\n",
       "      <td></td>\n",
       "      <td>0</td>\n",
       "    </tr>\n",
       "    <tr>\n",
       "      <th>https://www.tiktok.com/@lilyebert/video/7168572769234423045</th>\n",
       "      <th>7168760668874179333</th>\n",
       "      <td>lilyebert</td>\n",
       "      <td>lilyebert</td>\n",
       "      <td></td>\n",
       "      <td>0</td>\n",
       "    </tr>\n",
       "  </tbody>\n",
       "</table>\n",
       "</div>"
      ],
      "text/plain": [
       "                                                                       profiloVideo  \\\n",
       "idVideo                                            idCommento                         \n",
       "https://www.tiktok.com/@lilyebert/video/7175888... 7175971662792672005    lilyebert   \n",
       "https://www.tiktok.com/@lilyebert/video/7174514... 7174835598166311685    lilyebert   \n",
       "https://www.tiktok.com/@lilyebert/video/7174037... 7174791309730300677    lilyebert   \n",
       "https://www.tiktok.com/@lilyebert/video/7173668... 7175861608055407366    lilyebert   \n",
       "                                                   7175545363741819653    lilyebert   \n",
       "                                                   7174692386512126725    lilyebert   \n",
       "                                                   7174487877039309573    lilyebert   \n",
       "                                                   7174042301210608390    lilyebert   \n",
       "                                                   7173993186749776646    lilyebert   \n",
       "https://www.tiktok.com/@lilyebert/video/7169244... 7169576129979384581    lilyebert   \n",
       "https://www.tiktok.com/@lilyebert/video/7168572... 7168760668874179333    lilyebert   \n",
       "\n",
       "                                                                       profiloCommento  \\\n",
       "idVideo                                            idCommento                            \n",
       "https://www.tiktok.com/@lilyebert/video/7175888... 7175971662792672005       lilyebert   \n",
       "https://www.tiktok.com/@lilyebert/video/7174514... 7174835598166311685       lilyebert   \n",
       "https://www.tiktok.com/@lilyebert/video/7174037... 7174791309730300677       lilyebert   \n",
       "https://www.tiktok.com/@lilyebert/video/7173668... 7175861608055407366       lilyebert   \n",
       "                                                   7175545363741819653       lilyebert   \n",
       "                                                   7174692386512126725       lilyebert   \n",
       "                                                   7174487877039309573       lilyebert   \n",
       "                                                   7174042301210608390       lilyebert   \n",
       "                                                   7173993186749776646       lilyebert   \n",
       "https://www.tiktok.com/@lilyebert/video/7169244... 7169576129979384581       lilyebert   \n",
       "https://www.tiktok.com/@lilyebert/video/7168572... 7168760668874179333       lilyebert   \n",
       "\n",
       "                                                                       text  \\\n",
       "idVideo                                            idCommento                 \n",
       "https://www.tiktok.com/@lilyebert/video/7175888... 7175971662792672005        \n",
       "https://www.tiktok.com/@lilyebert/video/7174514... 7174835598166311685        \n",
       "https://www.tiktok.com/@lilyebert/video/7174037... 7174791309730300677        \n",
       "https://www.tiktok.com/@lilyebert/video/7173668... 7175861608055407366        \n",
       "                                                   7175545363741819653        \n",
       "                                                   7174692386512126725        \n",
       "                                                   7174487877039309573        \n",
       "                                                   7174042301210608390        \n",
       "                                                   7173993186749776646        \n",
       "https://www.tiktok.com/@lilyebert/video/7169244... 7169576129979384581        \n",
       "https://www.tiktok.com/@lilyebert/video/7168572... 7168760668874179333        \n",
       "\n",
       "                                                                        replyCount  \n",
       "idVideo                                            idCommento                       \n",
       "https://www.tiktok.com/@lilyebert/video/7175888... 7175971662792672005           0  \n",
       "https://www.tiktok.com/@lilyebert/video/7174514... 7174835598166311685           0  \n",
       "https://www.tiktok.com/@lilyebert/video/7174037... 7174791309730300677           0  \n",
       "https://www.tiktok.com/@lilyebert/video/7173668... 7175861608055407366           0  \n",
       "                                                   7175545363741819653           0  \n",
       "                                                   7174692386512126725           0  \n",
       "                                                   7174487877039309573           0  \n",
       "                                                   7174042301210608390           0  \n",
       "                                                   7173993186749776646           0  \n",
       "https://www.tiktok.com/@lilyebert/video/7169244... 7169576129979384581           0  \n",
       "https://www.tiktok.com/@lilyebert/video/7168572... 7168760668874179333           0  "
      ]
     },
     "execution_count": 68,
     "metadata": {},
     "output_type": "execute_result"
    }
   ],
   "source": [
    "dfCommenti[(dfCommenti.profiloCommento==\"lilyebert\") & (dfCommenti.text==\"\")].head(50)"
   ]
  },
  {
   "cell_type": "code",
   "execution_count": 53,
   "id": "fca82cd5",
   "metadata": {},
   "outputs": [],
   "source": [
    "dfRisposte=pd.DataFrame([{\n",
    "    \"profiloVideo\":profilo,\n",
    "    \"videoTitle\":video[\"title\"],\n",
    "    \"idVideo\":base_tiktok_video.format(profilo,id_video),\n",
    "    \"dateVideo\":datetime.fromtimestamp(video[\"create_time\"]),\n",
    "    \"idCommento\":id_commento,\n",
    "    \"dateCommento\":datetime.fromtimestamp(commento[\"create_time\"]),\n",
    "    \"profiloCommento\":commento[\"user\"][\"unique_id\"],\n",
    "    \"testoCommento\":commento[\"text\"],\n",
    "    \"idRisposta\":id_risposta,\n",
    "    \"dateRisposta\":datetime.fromtimestamp(risposta[\"create_time\"]),\n",
    "    \"profiloRisposta\":risposta[\"user\"][\"unique_id\"],\n",
    "    \"testoRisposta\":risposta[\"text\"],\n",
    "    \"inglese\": \"sentiment_vader\" in risposta\n",
    "} \n",
    "    for profilo,info_video in profili_analizzati_completo.items() \n",
    "    for id_video,video in info_video[\"video\"].items()\n",
    "    for id_commento,commento in video[\"comment\"].items()\n",
    "    if \"reply\" in commento\n",
    "    for id_risposta,risposta in commento[\"reply\"].items()\n",
    "]).set_index([\"idVideo\",\"idCommento\"])"
   ]
  },
  {
   "cell_type": "code",
   "execution_count": null,
   "id": "04a63717",
   "metadata": {},
   "outputs": [],
   "source": [
    "for p in profili:\n",
    "    print(p)\n",
    "    dfTemp=dfRisposte[(dfRisposte.profiloVideo==p) & (dfRisposte.dateVideo<=end_date) & (dfRisposte.dateVideo>=start_date)]\n",
    "    print(dfTemp.shape[0])\n",
    "    dfTempInt=dfTemp[(dfTemp.index.get_level_values(0).isin(listaVideoInteressanti_file))]\n",
    "    print(dfTempInt.shape[0])\n",
    "    dfTempIntInglese=dfTempInt[(dfTempInt.inglese)]\n",
    "    print(dfTempIntInglese.shape[0])\n",
    "\n",
    "    dfTempCR=dfTemp[(dfTemp.dateCommento<=end_date) & (dfTemp.dateCommento>=start_date) & (dfTemp.dateRisposta<=end_date) & (dfTemp.dateRisposta>=start_date)]\n",
    "    print(dfTempCR.shape[0])\n",
    "    dfTempCRInt=dfTempCR[(dfTempCR.index.get_level_values(0).isin(listaVideoInteressanti_file))]\n",
    "    print(dfTempCRInt.shape[0])\n",
    "    dfTempCRIntInglese=dfTempCRInt[(dfTempCRInt.inglese)]\n",
    "    print(dfTempCRIntInglese.shape[0])"
   ]
  },
  {
   "cell_type": "code",
   "execution_count": 136,
   "id": "2e3373e9",
   "metadata": {},
   "outputs": [],
   "source": [
    "dfTemp=pd.DataFrame([{\n",
    "        \"id\":\"@lilyebert\",\n",
    "        \"followers\":1915426,\n",
    "        \"video\":30,\n",
    "        \"comment\":67447,\n",
    "        \"reply\":8674},{\n",
    "        \"id\":\"@tovafriedman\",\n",
    "        \"followers\":480554,\n",
    "        \"video\":25,\n",
    "        \"comment\":17414,\n",
    "        \"reply\":9151},{\n",
    "        \"id\":\"@thetrueadventures\",\n",
    "        \"followers\":413618,\n",
    "        \"video\":29,\n",
    "        \"comment\":30769,\n",
    "        \"reply\":11817}])"
   ]
  },
  {
   "cell_type": "code",
   "execution_count": 141,
   "id": "9cda4925",
   "metadata": {},
   "outputs": [],
   "source": [
    "dfTemp2=pd.DataFrame([\n",
    "    {\"Profilo\":\"@lilyebert\",\"followers\":1915426,\"video\":30,\"tipo\":\"Commenti\",\"numero\":67447,\"auto\":29},\n",
    "    {\"Profilo\":\"@lilyebert\",\"followers\":1915426,\"video\":30,\"tipo\":\"Risposte\",\"numero\":8674,\"auto\":24},\n",
    "    {\"Profilo\":\"@tovafriedman\",\"followers\":480554,\"video\":25,\"tipo\":\"Commenti\",\"numero\":17414,\"auto\":180},\n",
    "    {\"Profilo\":\"@tovafriedman\",\"followers\":480554,\"video\":25,\"tipo\":\"Risposte\",\"numero\":9151,\"auto\":206},\n",
    "    {\"Profilo\":\"@thetrueadventures\",\"followers\":413618,\"video\":29,\"tipo\":\"Commenti\",\"numero\":30769,\"auto\":184},\n",
    "    {\"Profilo\":\"@thetrueadventures\",\"followers\":413618,\"video\":29,\"tipo\":\"Risposte\",\"numero\":11817,\"auto\":292}\n",
    "])"
   ]
  },
  {
   "cell_type": "code",
   "execution_count": 142,
   "id": "b0015712",
   "metadata": {},
   "outputs": [],
   "source": [
    "dfTemp[\"comm_norm\"]=(dfTemp[\"comment\"]/dfTemp[\"video\"])/dfTemp[\"followers\"]\n",
    "dfTemp[\"reply_norm\"]=(dfTemp[\"reply\"]/dfTemp[\"video\"])/dfTemp[\"followers\"]\n",
    "dfTemp[\"reply_comm_norm\"]=dfTemp[\"reply\"]/dfTemp[\"comment\"]\n",
    "dfTemp2[\"norm\"]=(dfTemp2[\"numero\"]/dfTemp2[\"video\"])/dfTemp2[\"followers\"]"
   ]
  },
  {
   "cell_type": "code",
   "execution_count": 145,
   "id": "bd739e59",
   "metadata": {},
   "outputs": [
    {
     "data": {
      "image/png": "[encoded data removed]",
      "text/plain": [
       "<Figure size 1170x827 with 1 Axes>"
      ]
     },
     "metadata": {},
     "output_type": "display_data"
    }
   ],
   "source": [
    "sns.set_theme(style=\"darkgrid\")\n",
    "ax = sns.barplot(x=\"tipo\", y=\"auto\", hue=\"Profilo\", data=dfTemp2)\n",
    "ax.set_xlabel(\"\")\n",
    "ax.set_ylabel(\"Numero di Commmenti e risposte fatte dagli autori\")\n",
    "for p in ax.patches:\n",
    "    ax.annotate(format(p.get_height(), '.0f'), (p.get_x() + p.get_width() / 2., p.get_height()), \n",
    "            ha = 'center', va = 'center', xytext = (0, 10), textcoords = 'offset points')\n",
    "plt.show()"
   ]
  },
  {
   "cell_type": "code",
   "execution_count": 135,
   "id": "ac440f8c",
   "metadata": {},
   "outputs": [
    {
     "data": {
      "text/plain": [
       "array([11.7 ,  8.27])"
      ]
     },
     "execution_count": 135,
     "metadata": {},
     "output_type": "execute_result"
    },
    {
     "data": {
      "image/png": "[encoded data removed]",
      "text/plain": [
       "<Figure size 1170x827 with 1 Axes>"
      ]
     },
     "metadata": {},
     "output_type": "display_data"
    }
   ],
   "source": [
    "sns.set_theme(style=\"darkgrid\")\n",
    "ax = sns.barplot(x=\"tipo\", y=\"norm\", hue=\"id\", data=dfTemp2)\n",
    "ax.set_xlabel(\"\")\n",
    "ax.set_ylabel(\"Commenti e risposte normalizzati per video e follower\")\n",
    "ax.legend(title=\"Profilo\")\n",
    "for p in ax.patches:\n",
    "    ax.annotate(format(p.get_height(),\".5f\"), (p.get_x() + p.get_width() / 2., p.get_height()), \n",
    "            ha = 'center', va = 'center', xytext = (0, 10), textcoords = 'offset points')\n",
    "plt.gcf().get_size_inches()"
   ]
  },
  {
   "cell_type": "code",
   "execution_count": 148,
   "id": "a52a424b",
   "metadata": {},
   "outputs": [
    {
     "data": {
      "image/png": "[encoded data removed]",
      "text/plain": [
       "<Figure size 600x827 with 1 Axes>"
      ]
     },
     "metadata": {},
     "output_type": "display_data"
    }
   ],
   "source": [
    "sns.set_theme(style=\"darkgrid\")\n",
    "ax=sns.barplot(data=dfTemp,x=\"id\",y=\"reply_comm_norm\")\n",
    "ax.set_xlabel(\"\")\n",
    "ax.set_ylabel(\"Risposte per commento\")\n",
    "ax.set_ylim(0,0.6)\n",
    "for p in ax.patches:\n",
    "    ax.annotate(format(p.get_height(), '.3f'), (p.get_x() + p.get_width() / 2., p.get_height()), \n",
    "            ha = 'center', va = 'center', xytext = (0, 10), textcoords = 'offset points')\n",
    "plt.gcf().set_size_inches(6, 8.27)"
   ]
  },
  {
   "cell_type": "code",
   "execution_count": null,
   "id": "c54eb98d",
   "metadata": {},
   "outputs": [],
   "source": [
    "for p in profili:\n",
    "    print(p)\n",
    "    print(dfVideo[(dfVideo.profile==p)].shape[0])\n",
    "    print(dfVideo[(dfVideo.profile==p) & (dfVideo.index.isin(listaVideoInteressanti_file))].shape[0])"
   ]
  },
  {
   "cell_type": "code",
   "execution_count": null,
   "id": "94e8e47b",
   "metadata": {},
   "outputs": [],
   "source": [
    "for p in profili:\n",
    "    print(p)\n",
    "    print(dfVideoRange[(dfVideoRange.profile==p)].shape[0])\n",
    "    print(dfVideoRange[(dfVideoRange.profile==p) & (dfVideoRange.index.isin(listaVideoInteressanti_file))].shape[0])"
   ]
  },
  {
   "cell_type": "code",
   "execution_count": 126,
   "id": "29783f0d",
   "metadata": {},
   "outputs": [
    {
     "data": {
      "text/html": [
       "<div>\n",
       "<style scoped>\n",
       "    .dataframe tbody tr th:only-of-type {\n",
       "        vertical-align: middle;\n",
       "    }\n",
       "\n",
       "    .dataframe tbody tr th {\n",
       "        vertical-align: top;\n",
       "    }\n",
       "\n",
       "    .dataframe thead th {\n",
       "        text-align: right;\n",
       "    }\n",
       "</style>\n",
       "<table border=\"1\" class=\"dataframe\">\n",
       "  <thead>\n",
       "    <tr style=\"text-align: right;\">\n",
       "      <th></th>\n",
       "      <th></th>\n",
       "      <th>idRisposta</th>\n",
       "    </tr>\n",
       "    <tr>\n",
       "      <th>idVideo</th>\n",
       "      <th>idCommento</th>\n",
       "      <th></th>\n",
       "    </tr>\n",
       "  </thead>\n",
       "  <tbody>\n",
       "    <tr>\n",
       "      <th>https://www.tiktok.com/@tovafriedman/video/7018874882096155910</th>\n",
       "      <th>7018958418874598150</th>\n",
       "      <td>1066</td>\n",
       "    </tr>\n",
       "    <tr>\n",
       "      <th rowspan=\"2\" valign=\"top\">https://www.tiktok.com/@thetrueadventures/video/7048662758740512002</th>\n",
       "      <th>7048713059959194370</th>\n",
       "      <td>576</td>\n",
       "    </tr>\n",
       "    <tr>\n",
       "      <th>7048663912900182831</th>\n",
       "      <td>522</td>\n",
       "    </tr>\n",
       "    <tr>\n",
       "      <th>https://www.tiktok.com/@tovafriedman/video/7018874882096155910</th>\n",
       "      <th>7018954444646023942</th>\n",
       "      <td>446</td>\n",
       "    </tr>\n",
       "    <tr>\n",
       "      <th>https://www.tiktok.com/@tovafriedman/video/7052679452576320815</th>\n",
       "      <th>7052679590656901935</th>\n",
       "      <td>407</td>\n",
       "    </tr>\n",
       "  </tbody>\n",
       "</table>\n",
       "</div>"
      ],
      "text/plain": [
       "                                                                        idRisposta\n",
       "idVideo                                            idCommento                     \n",
       "https://www.tiktok.com/@tovafriedman/video/7018... 7018958418874598150        1066\n",
       "https://www.tiktok.com/@thetrueadventures/video... 7048713059959194370         576\n",
       "                                                   7048663912900182831         522\n",
       "https://www.tiktok.com/@tovafriedman/video/7018... 7018954444646023942         446\n",
       "https://www.tiktok.com/@tovafriedman/video/7052... 7052679590656901935         407"
      ]
     },
     "execution_count": 126,
     "metadata": {},
     "output_type": "execute_result"
    }
   ],
   "source": [
    "dfRisposte.groupby([\"idVideo\",\"idCommento\"])[[\"idRisposta\"]].count().sort_values(\"idRisposta\",ascending=False).head(5)"
   ]
  },
  {
   "cell_type": "code",
   "execution_count": 130,
   "id": "8937efef",
   "metadata": {},
   "outputs": [
    {
     "data": {
      "text/html": [
       "<div>\n",
       "<style scoped>\n",
       "    .dataframe tbody tr th:only-of-type {\n",
       "        vertical-align: middle;\n",
       "    }\n",
       "\n",
       "    .dataframe tbody tr th {\n",
       "        vertical-align: top;\n",
       "    }\n",
       "\n",
       "    .dataframe thead th {\n",
       "        text-align: right;\n",
       "    }\n",
       "</style>\n",
       "<table border=\"1\" class=\"dataframe\">\n",
       "  <thead>\n",
       "    <tr style=\"text-align: right;\">\n",
       "      <th></th>\n",
       "      <th>profiloVideo</th>\n",
       "      <th>videoTitle</th>\n",
       "      <th>profiloCommento</th>\n",
       "      <th>testoCommento</th>\n",
       "      <th>idRisposta</th>\n",
       "      <th>testoRisposta</th>\n",
       "    </tr>\n",
       "    <tr>\n",
       "      <th>profiloRisposta</th>\n",
       "      <th></th>\n",
       "      <th></th>\n",
       "      <th></th>\n",
       "      <th></th>\n",
       "      <th></th>\n",
       "      <th></th>\n",
       "    </tr>\n",
       "  </thead>\n",
       "  <tbody>\n",
       "    <tr>\n",
       "      <th>cathylove4all</th>\n",
       "      <td>316</td>\n",
       "      <td>316</td>\n",
       "      <td>316</td>\n",
       "      <td>316</td>\n",
       "      <td>316</td>\n",
       "      <td>316</td>\n",
       "    </tr>\n",
       "    <tr>\n",
       "      <th>thetrueadventures</th>\n",
       "      <td>293</td>\n",
       "      <td>293</td>\n",
       "      <td>293</td>\n",
       "      <td>293</td>\n",
       "      <td>293</td>\n",
       "      <td>293</td>\n",
       "    </tr>\n",
       "    <tr>\n",
       "      <th>annewern</th>\n",
       "      <td>229</td>\n",
       "      <td>229</td>\n",
       "      <td>229</td>\n",
       "      <td>229</td>\n",
       "      <td>229</td>\n",
       "      <td>229</td>\n",
       "    </tr>\n",
       "    <tr>\n",
       "      <th>tovafriedman</th>\n",
       "      <td>206</td>\n",
       "      <td>206</td>\n",
       "      <td>206</td>\n",
       "      <td>206</td>\n",
       "      <td>206</td>\n",
       "      <td>206</td>\n",
       "    </tr>\n",
       "    <tr>\n",
       "      <th>arsynist</th>\n",
       "      <td>197</td>\n",
       "      <td>197</td>\n",
       "      <td>197</td>\n",
       "      <td>197</td>\n",
       "      <td>197</td>\n",
       "      <td>197</td>\n",
       "    </tr>\n",
       "    <tr>\n",
       "      <th>gelashe57</th>\n",
       "      <td>194</td>\n",
       "      <td>194</td>\n",
       "      <td>194</td>\n",
       "      <td>194</td>\n",
       "      <td>194</td>\n",
       "      <td>194</td>\n",
       "    </tr>\n",
       "    <tr>\n",
       "      <th>simchatora</th>\n",
       "      <td>168</td>\n",
       "      <td>168</td>\n",
       "      <td>168</td>\n",
       "      <td>168</td>\n",
       "      <td>168</td>\n",
       "      <td>168</td>\n",
       "    </tr>\n",
       "    <tr>\n",
       "      <th>elian_alano_javier</th>\n",
       "      <td>164</td>\n",
       "      <td>164</td>\n",
       "      <td>164</td>\n",
       "      <td>164</td>\n",
       "      <td>164</td>\n",
       "      <td>164</td>\n",
       "    </tr>\n",
       "    <tr>\n",
       "      <th>speedogomer</th>\n",
       "      <td>164</td>\n",
       "      <td>164</td>\n",
       "      <td>164</td>\n",
       "      <td>164</td>\n",
       "      <td>164</td>\n",
       "      <td>164</td>\n",
       "    </tr>\n",
       "    <tr>\n",
       "      <th>indiginous.gypsy_blue</th>\n",
       "      <td>96</td>\n",
       "      <td>96</td>\n",
       "      <td>96</td>\n",
       "      <td>96</td>\n",
       "      <td>96</td>\n",
       "      <td>96</td>\n",
       "    </tr>\n",
       "  </tbody>\n",
       "</table>\n",
       "</div>"
      ],
      "text/plain": [
       "                       profiloVideo  videoTitle  profiloCommento  \\\n",
       "profiloRisposta                                                    \n",
       "cathylove4all                   316         316              316   \n",
       "thetrueadventures               293         293              293   \n",
       "annewern                        229         229              229   \n",
       "tovafriedman                    206         206              206   \n",
       "arsynist                        197         197              197   \n",
       "gelashe57                       194         194              194   \n",
       "simchatora                      168         168              168   \n",
       "elian_alano_javier              164         164              164   \n",
       "speedogomer                     164         164              164   \n",
       "indiginous.gypsy_blue            96          96               96   \n",
       "\n",
       "                       testoCommento  idRisposta  testoRisposta  \n",
       "profiloRisposta                                                  \n",
       "cathylove4all                    316         316            316  \n",
       "thetrueadventures                293         293            293  \n",
       "annewern                         229         229            229  \n",
       "tovafriedman                     206         206            206  \n",
       "arsynist                         197         197            197  \n",
       "gelashe57                        194         194            194  \n",
       "simchatora                       168         168            168  \n",
       "elian_alano_javier               164         164            164  \n",
       "speedogomer                      164         164            164  \n",
       "indiginous.gypsy_blue             96          96             96  "
      ]
     },
     "execution_count": 130,
     "metadata": {},
     "output_type": "execute_result"
    }
   ],
   "source": [
    "dfRisposte.loc[\"https://www.tiktok.com/@thetrueadventures/video/7048662758740512002\",\"7048713059959194370\"].reset_index()[[\"videoTitle\",\"profiloCommento\",\"testoCommento\",\"idRisposta\",\"profiloRisposta\",\"testoRisposta\"]]\n",
    "## numero di risposte di un certo profilo, ordinati per numero di risposte\n",
    "# .groupby(\"profiloRisposta\").count().sort_values(\"idRisposta\",ascending=False).head(50)\n",
    "## commenti ordinati per numero di risposte\n",
    "# .groupby([\"idVideo\",\"idCommento\",\"\"]).count().sort_values(\"idRisposta\",ascending=False).head(50)"
   ]
  },
  {
   "cell_type": "markdown",
   "id": "e8f1c484",
   "metadata": {},
   "source": [
    "### per ogni video i profili che hanno commentato ordinati per numero di commenti"
   ]
  },
  {
   "cell_type": "code",
   "execution_count": 18,
   "id": "ca1e355c",
   "metadata": {},
   "outputs": [
    {
     "data": {
      "text/html": [
       "<div>\n",
       "<style scoped>\n",
       "    .dataframe tbody tr th:only-of-type {\n",
       "        vertical-align: middle;\n",
       "    }\n",
       "\n",
       "    .dataframe tbody tr th {\n",
       "        vertical-align: top;\n",
       "    }\n",
       "\n",
       "    .dataframe thead th {\n",
       "        text-align: right;\n",
       "    }\n",
       "</style>\n",
       "<table border=\"1\" class=\"dataframe\">\n",
       "  <thead>\n",
       "    <tr style=\"text-align: right;\">\n",
       "      <th></th>\n",
       "      <th></th>\n",
       "      <th>profiloVideo</th>\n",
       "    </tr>\n",
       "    <tr>\n",
       "      <th>idVideo</th>\n",
       "      <th>profiloCommento</th>\n",
       "      <th></th>\n",
       "    </tr>\n",
       "  </thead>\n",
       "  <tbody>\n",
       "    <tr>\n",
       "      <th rowspan=\"3\" valign=\"top\">https://www.tiktok.com/@lilyebert/video/7020789842300636421</th>\n",
       "      <th>eviecolx</th>\n",
       "      <td>2</td>\n",
       "    </tr>\n",
       "    <tr>\n",
       "      <th>isabelladoxie</th>\n",
       "      <td>2</td>\n",
       "    </tr>\n",
       "    <tr>\n",
       "      <th>preciouslife18</th>\n",
       "      <td>2</td>\n",
       "    </tr>\n",
       "    <tr>\n",
       "      <th rowspan=\"2\" valign=\"top\">https://www.tiktok.com/@lilyebert/video/7021214858100116741</th>\n",
       "      <th>consistentlysimping</th>\n",
       "      <td>4</td>\n",
       "    </tr>\n",
       "    <tr>\n",
       "      <th>maxim.schreiner</th>\n",
       "      <td>4</td>\n",
       "    </tr>\n",
       "    <tr>\n",
       "      <th>...</th>\n",
       "      <th>...</th>\n",
       "      <td>...</td>\n",
       "    </tr>\n",
       "    <tr>\n",
       "      <th rowspan=\"5\" valign=\"top\">https://www.tiktok.com/@tovafriedman/video/7142711585382075694</th>\n",
       "      <th>erinrenee_38</th>\n",
       "      <td>2</td>\n",
       "    </tr>\n",
       "    <tr>\n",
       "      <th>faces4truth</th>\n",
       "      <td>2</td>\n",
       "    </tr>\n",
       "    <tr>\n",
       "      <th>its_hannah20260</th>\n",
       "      <td>2</td>\n",
       "    </tr>\n",
       "    <tr>\n",
       "      <th>historygeekz</th>\n",
       "      <td>2</td>\n",
       "    </tr>\n",
       "    <tr>\n",
       "      <th>amyrose.spams</th>\n",
       "      <td>2</td>\n",
       "    </tr>\n",
       "  </tbody>\n",
       "</table>\n",
       "<p>2410 rows × 1 columns</p>\n",
       "</div>"
      ],
      "text/plain": [
       "                                                                        profiloVideo\n",
       "idVideo                                            profiloCommento                  \n",
       "https://www.tiktok.com/@lilyebert/video/7020789... eviecolx                        2\n",
       "                                                   isabelladoxie                   2\n",
       "                                                   preciouslife18                  2\n",
       "https://www.tiktok.com/@lilyebert/video/7021214... consistentlysimping             4\n",
       "                                                   maxim.schreiner                 4\n",
       "...                                                                              ...\n",
       "https://www.tiktok.com/@tovafriedman/video/7142... erinrenee_38                    2\n",
       "                                                   faces4truth                     2\n",
       "                                                   its_hannah20260                 2\n",
       "                                                   historygeekz                    2\n",
       "                                                   amyrose.spams                   2\n",
       "\n",
       "[2410 rows x 1 columns]"
      ]
     },
     "execution_count": 18,
     "metadata": {},
     "output_type": "execute_result"
    }
   ],
   "source": [
    "a=dfCommenti[(dfCommenti.profiloVideo != dfCommenti.profiloCommento) & (dfCommenti.index.get_level_values(0).isin(listaVideoInteressanti_file))]\\\n",
    ".groupby([\"idVideo\",\"profiloCommento\"])\\\n",
    ".count()[[\"profiloVideo\"]]\\\n",
    ".sort_values([\"profiloVideo\"],ascending=False)\\\n",
    ".groupby(level=0,group_keys=False)\\\n",
    ".apply(lambda x: x.sort_values([\"profiloVideo\"],ascending=False))\n",
    "a[a.profiloVideo>1]\\\n",
    "#.apply(lambda x: x.sort_values([\"profiloVideo\"],ascending=False).head(5))"
   ]
  },
  {
   "cell_type": "code",
   "execution_count": 125,
   "id": "dae1b156",
   "metadata": {},
   "outputs": [
    {
     "data": {
      "text/plain": [
       "(350, 4)"
      ]
     },
     "execution_count": 125,
     "metadata": {},
     "output_type": "execute_result"
    }
   ],
   "source": [
    "a=dfCommenti[(dfCommenti.profiloCommento==\"ninafreda\") & (dfCommenti.profiloVideo==\"lilyebert\")]\\\n",
    ".reset_index()\\\n",
    ".set_index([\"idVideo\",\"profiloCommento\"])\n",
    "a[~a.index.duplicated(keep='first')].shape"
   ]
  },
  {
   "cell_type": "code",
   "execution_count": 127,
   "id": "89f244b8",
   "metadata": {},
   "outputs": [],
   "source": [
    "a=dfCommenti[dfCommenti.profiloVideo != dfCommenti.profiloCommento]\\\n",
    ".reset_index()\\\n",
    ".set_index([\"profiloCommento\",\"idVideo\",\"profiloVideo\"])\n",
    "a[~a.index.duplicated(keep='first')]\\\n",
    ".reset_index()\\\n",
    ".set_index([\"profiloCommento\",\"profiloVideo\"])\\\n",
    ".groupby([\"profiloVideo\",\"profiloCommento\"])\\\n",
    ".count()[[\"idVideo\"]]\\\n",
    ".sort_values([\"idVideo\"],ascending=False)\\\n",
    ".groupby(level=0,group_keys=False)\\\n",
    ".apply(lambda x: x.sort_values([\"idVideo\"],ascending=False).head(5))\\\n",
    ".to_excel(\"commenti/top5UtentiCheCommentanoPiùSpesso.xlsx\")\n",
    "# .count()[[\"idVideo\"]]\\\n",
    "# .sort_values([\"idVideo\"],ascending=False)\\"
   ]
  },
  {
   "cell_type": "code",
   "execution_count": 351,
   "id": "0b293ba3",
   "metadata": {},
   "outputs": [],
   "source": [
    "dfRisposte[(dfRisposte.profiloVideo==dfRisposte.profiloRisposta) & (dfRisposte.index.get_level_values(0).isin(listaVideoInteressanti_file))]\\\n",
    "[[\"profiloRisposta\"]]\\\n",
    ".groupby(\"idVideo\")\\\n",
    ".count()\\\n",
    ".sort_values(by=\"profiloRisposta\",ascending=False)\\\n",
    ".to_excel(\"commenti/autocommenti(risposte)_2.xlsx\")"
   ]
  },
  {
   "cell_type": "code",
   "execution_count": 353,
   "id": "af909102",
   "metadata": {
    "scrolled": false
   },
   "outputs": [],
   "source": [
    "dfCommenti[(dfCommenti.profiloVideo==dfCommenti.profiloCommento) & (dfCommenti.index.get_level_values(0).isin(listaVideoInteressanti_file))]\\\n",
    "[[\"profiloCommento\"]]\\\n",
    ".groupby(\"idVideo\")\\\n",
    ".count()\\\n",
    ".sort_values(by=\"profiloCommento\",ascending=False)\\\n",
    ".to_excel(\"commenti/autocommenti(commenti)_2.xlsx\")"
   ]
  },
  {
   "cell_type": "markdown",
   "id": "85ce7f36",
   "metadata": {},
   "source": [
    "### Per ogni video il commento con più risposte e risposte al commento"
   ]
  },
  {
   "cell_type": "code",
   "execution_count": 95,
   "id": "288cfa70",
   "metadata": {
    "scrolled": true
   },
   "outputs": [],
   "source": [
    "#commenti ordinati per numero di risposte\n",
    "# a=dfCommenti[(dfCommenti.profiloVideo != dfCommenti.profiloCommento) & (dfCommenti.index.get_level_values(0).isin(listaVideoInteressanti_file))]\\\n",
    "# .groupby([\"idVideo\",\"profiloCommento\"])\\\n",
    "# .count()[[\"profiloVideo\"]]\\\n",
    "# .sort_values([\"profiloVideo\"],ascending=False)\\\n",
    "# .groupby(level=0,group_keys=False)\\\n",
    "# .apply(lambda x: x.sort_values([\"profiloVideo\"],ascending=False))\n",
    "# a[a.profiloVideo>1]\\\n",
    "#     .to_excel(\"commenti/CommentiUtentiEsterniMaggioreDi1.xlsx\")\n",
    "#.apply(lambda x: x.sort_values([\"profiloVideo\"],ascending=False).head(5))\n",
    "\n",
    "#dfCommenti.sort_values(by=\"replyCount\",ascending=False).head()\n",
    "\n",
    "indici=dfCommenti[dfCommenti.index.get_level_values(0).isin(listaVideoInteressanti_file)][[\"replyCount\"]].sort_values(by=\"replyCount\",ascending=False)\\\n",
    ".groupby(level=0,group_keys=False)\\\n",
    ".apply(lambda x: x.sort_values(by=\"replyCount\",ascending=False).head(1))\\\n",
    ".sort_values(by=\"replyCount\",ascending=False)\\\n",
    ".index.get_level_values(1)[:10]\n",
    "dfRisposte[dfRisposte.index.get_level_values(1).isin(indici)]\\\n",
    ".to_excel(\"commenti/CommentiConPiùRisposte_top10.xlsx\")"
   ]
  },
  {
   "cell_type": "markdown",
   "id": "848fdbd9",
   "metadata": {},
   "source": [
    "#### Istogramma sentiment vader"
   ]
  },
  {
   "cell_type": "code",
   "execution_count": 320,
   "id": "65359cd6",
   "metadata": {},
   "outputs": [
    {
     "data": {
      "image/png": "[encoded data removed]",
      "text/plain": [
       "<Figure size 1600x500 with 3 Axes>"
      ]
     },
     "metadata": {},
     "output_type": "display_data"
    }
   ],
   "source": [
    "fig, (ax0,ax1,ax2) = plt.subplots(1, 3, figsize=(16, 5))\n",
    "bins=10\n",
    "sns.histplot(data=dfSentimentEmotionHateCommenti[dfSentimentEmotionHateCommenti.profilo==profili[0]], x=\"sentiment_vader\", color=\"blue\", ax=ax0,bins=bins).set(title=profili[0])\n",
    "sns.histplot(data=dfSentimentEmotionHateCommenti[dfSentimentEmotionHateCommenti.profilo==profili[1]], x=\"sentiment_vader\", color=\"red\", ax=ax1,bins=bins).set(title=profili[1])\n",
    "sns.histplot(data=dfSentimentEmotionHateCommenti[dfSentimentEmotionHateCommenti.profilo==profili[2]], x=\"sentiment_vader\", color=\"green\", ax=ax2,bins=bins).set(title=profili[2])\n",
    "\n",
    "plt.subplots_adjust(right=1)\n",
    "plt.show()"
   ]
  },
  {
   "cell_type": "code",
   "execution_count": 212,
   "id": "c87502a9",
   "metadata": {},
   "outputs": [
    {
     "data": {
      "image/png": "[encoded data removed]",
      "text/plain": [
       "<Figure size 1100x400 with 3 Axes>"
      ]
     },
     "metadata": {},
     "output_type": "display_data"
    }
   ],
   "source": [
    "fig, (ax0, ax1, ax2) = plt.subplots(1, 3)\n",
    "ax0.hist(dfSentimentEmotionHateCommenti[dfSentimentEmotionHateCommenti.profilo==profili[0]][\"sentiment_vader\"].to_list())\n",
    "ax0.set_title(profili[0])\n",
    "ax1.hist(dfSentimentEmotionHateCommenti[dfSentimentEmotionHateCommenti.profilo==profili[1]][\"sentiment_vader\"].to_list())\n",
    "ax1.set_title(profili[1])\n",
    "ax2.hist(dfSentimentEmotionHateCommenti[dfSentimentEmotionHateCommenti.profilo==profili[2]][\"sentiment_vader\"].to_list())\n",
    "ax2.set_title(profili[2])\n",
    "fig.set_figwidth(11)\n",
    "fig.set_figheight(4)\n",
    "plt.show()"
   ]
  },
  {
   "cell_type": "markdown",
   "id": "169983b4",
   "metadata": {},
   "source": [
    "#### Top 10 video commenti negativi"
   ]
  },
  {
   "cell_type": "code",
   "execution_count": 268,
   "id": "1281e905",
   "metadata": {},
   "outputs": [
    {
     "name": "stdout",
     "output_type": "stream",
     "text": [
      "tovafriedman\n"
     ]
    }
   ],
   "source": [
    "profilo=profili[1]\n",
    "print(profilo)"
   ]
  },
  {
   "cell_type": "code",
   "execution_count": 269,
   "id": "f0e3663a",
   "metadata": {},
   "outputs": [
    {
     "data": {
      "text/html": [
       "<div>\n",
       "<style scoped>\n",
       "    .dataframe tbody tr th:only-of-type {\n",
       "        vertical-align: middle;\n",
       "    }\n",
       "\n",
       "    .dataframe tbody tr th {\n",
       "        vertical-align: top;\n",
       "    }\n",
       "\n",
       "    .dataframe thead th {\n",
       "        text-align: right;\n",
       "    }\n",
       "</style>\n",
       "<table border=\"1\" class=\"dataframe\">\n",
       "  <thead>\n",
       "    <tr style=\"text-align: right;\">\n",
       "      <th></th>\n",
       "      <th>sentiment_vader</th>\n",
       "    </tr>\n",
       "    <tr>\n",
       "      <th>idVideo</th>\n",
       "      <th></th>\n",
       "    </tr>\n",
       "  </thead>\n",
       "  <tbody>\n",
       "    <tr>\n",
       "      <th>https://www.tiktok.com/@tovafriedman/video/7018874882096155910</th>\n",
       "      <td>1265</td>\n",
       "    </tr>\n",
       "    <tr>\n",
       "      <th>https://www.tiktok.com/@tovafriedman/video/7087063156253609259</th>\n",
       "      <td>366</td>\n",
       "    </tr>\n",
       "    <tr>\n",
       "      <th>https://www.tiktok.com/@tovafriedman/video/7016829421168446725</th>\n",
       "      <td>312</td>\n",
       "    </tr>\n",
       "    <tr>\n",
       "      <th>https://www.tiktok.com/@tovafriedman/video/7060509012156206383</th>\n",
       "      <td>310</td>\n",
       "    </tr>\n",
       "    <tr>\n",
       "      <th>https://www.tiktok.com/@tovafriedman/video/7168710755293072686</th>\n",
       "      <td>259</td>\n",
       "    </tr>\n",
       "    <tr>\n",
       "      <th>https://www.tiktok.com/@tovafriedman/video/7017074934778252549</th>\n",
       "      <td>214</td>\n",
       "    </tr>\n",
       "    <tr>\n",
       "      <th>https://www.tiktok.com/@tovafriedman/video/7060132477469494574</th>\n",
       "      <td>194</td>\n",
       "    </tr>\n",
       "    <tr>\n",
       "      <th>https://www.tiktok.com/@tovafriedman/video/7017902795378412806</th>\n",
       "      <td>166</td>\n",
       "    </tr>\n",
       "    <tr>\n",
       "      <th>https://www.tiktok.com/@tovafriedman/video/7035081399539354926</th>\n",
       "      <td>162</td>\n",
       "    </tr>\n",
       "    <tr>\n",
       "      <th>https://www.tiktok.com/@tovafriedman/video/7053515979564879109</th>\n",
       "      <td>160</td>\n",
       "    </tr>\n",
       "  </tbody>\n",
       "</table>\n",
       "</div>"
      ],
      "text/plain": [
       "                                                    sentiment_vader\n",
       "idVideo                                                            \n",
       "https://www.tiktok.com/@tovafriedman/video/7018...             1265\n",
       "https://www.tiktok.com/@tovafriedman/video/7087...              366\n",
       "https://www.tiktok.com/@tovafriedman/video/7016...              312\n",
       "https://www.tiktok.com/@tovafriedman/video/7060...              310\n",
       "https://www.tiktok.com/@tovafriedman/video/7168...              259\n",
       "https://www.tiktok.com/@tovafriedman/video/7017...              214\n",
       "https://www.tiktok.com/@tovafriedman/video/7060...              194\n",
       "https://www.tiktok.com/@tovafriedman/video/7017...              166\n",
       "https://www.tiktok.com/@tovafriedman/video/7035...              162\n",
       "https://www.tiktok.com/@tovafriedman/video/7053...              160"
      ]
     },
     "execution_count": 269,
     "metadata": {},
     "output_type": "execute_result"
    }
   ],
   "source": [
    "dfSentimentEmotionHateCommenti[\n",
    "    (dfSentimentEmotionHateCommenti.profilo==profilo) &\n",
    "    (dfSentimentEmotionHateCommenti.sentiment_vader<0)][[\"sentiment_vader\"]]\\\n",
    ".groupby(\"idVideo\")\\\n",
    ".count()\\\n",
    ".sort_values(by=\"sentiment_vader\",ascending=False)\\\n",
    ".head(10)"
   ]
  },
  {
   "cell_type": "markdown",
   "id": "a55aa83e",
   "metadata": {},
   "source": [
    "#### Top 10 video con la media più bassa di sentiment vader"
   ]
  },
  {
   "cell_type": "code",
   "execution_count": 270,
   "id": "f0e83d2e",
   "metadata": {},
   "outputs": [
    {
     "data": {
      "text/html": [
       "<div>\n",
       "<style scoped>\n",
       "    .dataframe tbody tr th:only-of-type {\n",
       "        vertical-align: middle;\n",
       "    }\n",
       "\n",
       "    .dataframe tbody tr th {\n",
       "        vertical-align: top;\n",
       "    }\n",
       "\n",
       "    .dataframe thead th {\n",
       "        text-align: right;\n",
       "    }\n",
       "</style>\n",
       "<table border=\"1\" class=\"dataframe\">\n",
       "  <thead>\n",
       "    <tr style=\"text-align: right;\">\n",
       "      <th></th>\n",
       "      <th>sentiment_vader</th>\n",
       "    </tr>\n",
       "    <tr>\n",
       "      <th>idVideo</th>\n",
       "      <th></th>\n",
       "    </tr>\n",
       "  </thead>\n",
       "  <tbody>\n",
       "    <tr>\n",
       "      <th>https://www.tiktok.com/@tovafriedman/video/7129494007176236334</th>\n",
       "      <td>-0.066754</td>\n",
       "    </tr>\n",
       "    <tr>\n",
       "      <th>https://www.tiktok.com/@tovafriedman/video/7176233790052764971</th>\n",
       "      <td>-0.062927</td>\n",
       "    </tr>\n",
       "    <tr>\n",
       "      <th>https://www.tiktok.com/@tovafriedman/video/7016020587835346182</th>\n",
       "      <td>-0.034398</td>\n",
       "    </tr>\n",
       "    <tr>\n",
       "      <th>https://www.tiktok.com/@tovafriedman/video/7168710755293072686</th>\n",
       "      <td>-0.026514</td>\n",
       "    </tr>\n",
       "    <tr>\n",
       "      <th>https://www.tiktok.com/@tovafriedman/video/7172795392868764970</th>\n",
       "      <td>-0.006655</td>\n",
       "    </tr>\n",
       "    <tr>\n",
       "      <th>https://www.tiktok.com/@tovafriedman/video/7013034589564325125</th>\n",
       "      <td>-0.005163</td>\n",
       "    </tr>\n",
       "    <tr>\n",
       "      <th>https://www.tiktok.com/@tovafriedman/video/7060132477469494574</th>\n",
       "      <td>-0.004269</td>\n",
       "    </tr>\n",
       "    <tr>\n",
       "      <th>https://www.tiktok.com/@tovafriedman/video/7100259427957148970</th>\n",
       "      <td>0.004022</td>\n",
       "    </tr>\n",
       "    <tr>\n",
       "      <th>https://www.tiktok.com/@tovafriedman/video/7107838408457784618</th>\n",
       "      <td>0.015092</td>\n",
       "    </tr>\n",
       "    <tr>\n",
       "      <th>https://www.tiktok.com/@tovafriedman/video/7079058261684571435</th>\n",
       "      <td>0.017760</td>\n",
       "    </tr>\n",
       "  </tbody>\n",
       "</table>\n",
       "</div>"
      ],
      "text/plain": [
       "                                                    sentiment_vader\n",
       "idVideo                                                            \n",
       "https://www.tiktok.com/@tovafriedman/video/7129...        -0.066754\n",
       "https://www.tiktok.com/@tovafriedman/video/7176...        -0.062927\n",
       "https://www.tiktok.com/@tovafriedman/video/7016...        -0.034398\n",
       "https://www.tiktok.com/@tovafriedman/video/7168...        -0.026514\n",
       "https://www.tiktok.com/@tovafriedman/video/7172...        -0.006655\n",
       "https://www.tiktok.com/@tovafriedman/video/7013...        -0.005163\n",
       "https://www.tiktok.com/@tovafriedman/video/7060...        -0.004269\n",
       "https://www.tiktok.com/@tovafriedman/video/7100...         0.004022\n",
       "https://www.tiktok.com/@tovafriedman/video/7107...         0.015092\n",
       "https://www.tiktok.com/@tovafriedman/video/7079...         0.017760"
      ]
     },
     "execution_count": 270,
     "metadata": {},
     "output_type": "execute_result"
    }
   ],
   "source": [
    "dfSentimentEmotionHateCommenti[dfSentimentEmotionHateCommenti.profilo==profilo][[\"sentiment_vader\"]]\\\n",
    ".groupby(\"idVideo\")\\\n",
    ".mean()\\\n",
    ".sort_values(by=\"sentiment_vader\",ascending=True)\\\n",
    ".head(10)"
   ]
  },
  {
   "cell_type": "markdown",
   "id": "2f50a82b",
   "metadata": {},
   "source": [
    "#### Top 10 video commenti negativi vader normalizzato"
   ]
  },
  {
   "cell_type": "code",
   "execution_count": 271,
   "id": "82bef76c",
   "metadata": {},
   "outputs": [
    {
     "data": {
      "text/html": [
       "<div>\n",
       "<style scoped>\n",
       "    .dataframe tbody tr th:only-of-type {\n",
       "        vertical-align: middle;\n",
       "    }\n",
       "\n",
       "    .dataframe tbody tr th {\n",
       "        vertical-align: top;\n",
       "    }\n",
       "\n",
       "    .dataframe thead th {\n",
       "        text-align: right;\n",
       "    }\n",
       "</style>\n",
       "<table border=\"1\" class=\"dataframe\">\n",
       "  <thead>\n",
       "    <tr style=\"text-align: right;\">\n",
       "      <th></th>\n",
       "      <th>sentiment_vader</th>\n",
       "      <th>n_comments</th>\n",
       "      <th>norm</th>\n",
       "    </tr>\n",
       "    <tr>\n",
       "      <th>idVideo</th>\n",
       "      <th></th>\n",
       "      <th></th>\n",
       "      <th></th>\n",
       "    </tr>\n",
       "  </thead>\n",
       "  <tbody>\n",
       "    <tr>\n",
       "      <th>https://www.tiktok.com/@tovafriedman/video/7013034589564325125</th>\n",
       "      <td>28</td>\n",
       "      <td>68</td>\n",
       "      <td>0.411765</td>\n",
       "    </tr>\n",
       "    <tr>\n",
       "      <th>https://www.tiktok.com/@tovafriedman/video/7176233790052764971</th>\n",
       "      <td>19</td>\n",
       "      <td>47</td>\n",
       "      <td>0.404255</td>\n",
       "    </tr>\n",
       "    <tr>\n",
       "      <th>https://www.tiktok.com/@tovafriedman/video/7060132477469494574</th>\n",
       "      <td>194</td>\n",
       "      <td>483</td>\n",
       "      <td>0.401656</td>\n",
       "    </tr>\n",
       "    <tr>\n",
       "      <th>https://www.tiktok.com/@tovafriedman/video/7172795392868764970</th>\n",
       "      <td>36</td>\n",
       "      <td>95</td>\n",
       "      <td>0.378947</td>\n",
       "    </tr>\n",
       "    <tr>\n",
       "      <th>https://www.tiktok.com/@tovafriedman/video/7129494007176236334</th>\n",
       "      <td>32</td>\n",
       "      <td>85</td>\n",
       "      <td>0.376471</td>\n",
       "    </tr>\n",
       "    <tr>\n",
       "      <th>https://www.tiktok.com/@tovafriedman/video/7016020587835346182</th>\n",
       "      <td>41</td>\n",
       "      <td>109</td>\n",
       "      <td>0.376147</td>\n",
       "    </tr>\n",
       "    <tr>\n",
       "      <th>https://www.tiktok.com/@tovafriedman/video/7010979339655187717</th>\n",
       "      <td>20</td>\n",
       "      <td>54</td>\n",
       "      <td>0.370370</td>\n",
       "    </tr>\n",
       "    <tr>\n",
       "      <th>https://www.tiktok.com/@tovafriedman/video/7029003162937724206</th>\n",
       "      <td>58</td>\n",
       "      <td>159</td>\n",
       "      <td>0.364780</td>\n",
       "    </tr>\n",
       "    <tr>\n",
       "      <th>https://www.tiktok.com/@tovafriedman/video/7107838408457784618</th>\n",
       "      <td>45</td>\n",
       "      <td>128</td>\n",
       "      <td>0.351562</td>\n",
       "    </tr>\n",
       "    <tr>\n",
       "      <th>https://www.tiktok.com/@tovafriedman/video/7157462937936973099</th>\n",
       "      <td>28</td>\n",
       "      <td>80</td>\n",
       "      <td>0.350000</td>\n",
       "    </tr>\n",
       "  </tbody>\n",
       "</table>\n",
       "</div>"
      ],
      "text/plain": [
       "                                                    sentiment_vader  \\\n",
       "idVideo                                                               \n",
       "https://www.tiktok.com/@tovafriedman/video/7013...               28   \n",
       "https://www.tiktok.com/@tovafriedman/video/7176...               19   \n",
       "https://www.tiktok.com/@tovafriedman/video/7060...              194   \n",
       "https://www.tiktok.com/@tovafriedman/video/7172...               36   \n",
       "https://www.tiktok.com/@tovafriedman/video/7129...               32   \n",
       "https://www.tiktok.com/@tovafriedman/video/7016...               41   \n",
       "https://www.tiktok.com/@tovafriedman/video/7010...               20   \n",
       "https://www.tiktok.com/@tovafriedman/video/7029...               58   \n",
       "https://www.tiktok.com/@tovafriedman/video/7107...               45   \n",
       "https://www.tiktok.com/@tovafriedman/video/7157...               28   \n",
       "\n",
       "                                                    n_comments      norm  \n",
       "idVideo                                                                   \n",
       "https://www.tiktok.com/@tovafriedman/video/7013...          68  0.411765  \n",
       "https://www.tiktok.com/@tovafriedman/video/7176...          47  0.404255  \n",
       "https://www.tiktok.com/@tovafriedman/video/7060...         483  0.401656  \n",
       "https://www.tiktok.com/@tovafriedman/video/7172...          95  0.378947  \n",
       "https://www.tiktok.com/@tovafriedman/video/7129...          85  0.376471  \n",
       "https://www.tiktok.com/@tovafriedman/video/7016...         109  0.376147  \n",
       "https://www.tiktok.com/@tovafriedman/video/7010...          54  0.370370  \n",
       "https://www.tiktok.com/@tovafriedman/video/7029...         159  0.364780  \n",
       "https://www.tiktok.com/@tovafriedman/video/7107...         128  0.351562  \n",
       "https://www.tiktok.com/@tovafriedman/video/7157...          80  0.350000  "
      ]
     },
     "execution_count": 271,
     "metadata": {},
     "output_type": "execute_result"
    }
   ],
   "source": [
    "dfTmp=dfSentimentEmotionHateCommenti[\n",
    "    (dfSentimentEmotionHateCommenti.profilo==profilo) &\n",
    "    (dfSentimentEmotionHateCommenti.sentiment_vader<0)][[\"sentiment_vader\"]]\\\n",
    ".groupby(\"idVideo\")\\\n",
    ".count()\n",
    "dfTmp[\"n_comments\"]=[len(profili_analizzati_completo[profilo][\"video\"][index.split(\"/\")[-1]][\"comment\"]) for index in dfTmp.index]\n",
    "dfTmp[\"norm\"]=dfTmp[\"sentiment_vader\"]/dfTmp[\"n_comments\"]\n",
    "dfTmp.sort_values(by=\"norm\",ascending=False)\\\n",
    ".head(10)"
   ]
  },
  {
   "cell_type": "markdown",
   "id": "acd9a971",
   "metadata": {},
   "source": [
    "#### Numero di autocommenti per video"
   ]
  },
  {
   "cell_type": "code",
   "execution_count": 12,
   "id": "cb448819",
   "metadata": {},
   "outputs": [],
   "source": [
    "dfC_L=pd.DataFrame([{\n",
    "    \"idVideo\":base_tiktok_video.format(profili[0],id_video),\n",
    "    \"idCommento\":commento[\"id\"],\n",
    "    \"testo\":commento[\"text\"],\n",
    "    \"user\":commento[\"user\"][\"unique_id\"]\n",
    "} for id_video,commenti in tmp.items() for commento in commenti]).set_index([\"idVideo\",\"idCommento\"])"
   ]
  },
  {
   "cell_type": "code",
   "execution_count": 29,
   "id": "c0040984",
   "metadata": {},
   "outputs": [
    {
     "data": {
      "text/html": [
       "<div>\n",
       "<style scoped>\n",
       "    .dataframe tbody tr th:only-of-type {\n",
       "        vertical-align: middle;\n",
       "    }\n",
       "\n",
       "    .dataframe tbody tr th {\n",
       "        vertical-align: top;\n",
       "    }\n",
       "\n",
       "    .dataframe thead th {\n",
       "        text-align: right;\n",
       "    }\n",
       "</style>\n",
       "<table border=\"1\" class=\"dataframe\">\n",
       "  <thead>\n",
       "    <tr style=\"text-align: right;\">\n",
       "      <th></th>\n",
       "      <th>user</th>\n",
       "    </tr>\n",
       "    <tr>\n",
       "      <th>idVideo</th>\n",
       "      <th></th>\n",
       "    </tr>\n",
       "  </thead>\n",
       "  <tbody>\n",
       "    <tr>\n",
       "      <th>https://www.tiktok.com/@lilyebert/video/6927309816129965317</th>\n",
       "      <td>2</td>\n",
       "    </tr>\n",
       "    <tr>\n",
       "      <th>https://www.tiktok.com/@lilyebert/video/6929227126507851014</th>\n",
       "      <td>2</td>\n",
       "    </tr>\n",
       "    <tr>\n",
       "      <th>https://www.tiktok.com/@lilyebert/video/6934313818508119301</th>\n",
       "      <td>2</td>\n",
       "    </tr>\n",
       "    <tr>\n",
       "      <th>https://www.tiktok.com/@lilyebert/video/7042665974759296262</th>\n",
       "      <td>1</td>\n",
       "    </tr>\n",
       "    <tr>\n",
       "      <th>https://www.tiktok.com/@lilyebert/video/6974470084517465349</th>\n",
       "      <td>1</td>\n",
       "    </tr>\n",
       "  </tbody>\n",
       "</table>\n",
       "</div>"
      ],
      "text/plain": [
       "                                                    user\n",
       "idVideo                                                 \n",
       "https://www.tiktok.com/@lilyebert/video/6927309...     2\n",
       "https://www.tiktok.com/@lilyebert/video/6929227...     2\n",
       "https://www.tiktok.com/@lilyebert/video/6934313...     2\n",
       "https://www.tiktok.com/@lilyebert/video/7042665...     1\n",
       "https://www.tiktok.com/@lilyebert/video/6974470...     1"
      ]
     },
     "execution_count": 29,
     "metadata": {},
     "output_type": "execute_result"
    }
   ],
   "source": [
    "dfC_L.loc[dfC_L[\"user\"]==\"lilyebert\"].groupby(\"idVideo\").count().sort_values(by=\"testo\",ascending=False)[[\"user\"]].head()"
   ]
  },
  {
   "cell_type": "markdown",
   "id": "76adda05",
   "metadata": {},
   "source": [
    "### Unione info profilo, video, commenti, risposte e sentiment"
   ]
  },
  {
   "cell_type": "code",
   "execution_count": 443,
   "id": "91c33a4d",
   "metadata": {},
   "outputs": [],
   "source": [
    "profili_analizzati_completo=copy.deepcopy(profili_analizzati)"
   ]
  },
  {
   "cell_type": "code",
   "execution_count": 439,
   "id": "a92a3189",
   "metadata": {},
   "outputs": [],
   "source": [
    "dictCommenti=json.load(open(\"Commenti/2022-12-16/commenti.json\",\"r\"))\n",
    "dictCommentiEn=json.load(open(\"Commenti/2022-12-16/Inglese/sentimentCommentiEn.json\"))\n",
    "dictRisposte=json.load(open(\"Risposte/2022-12-16/risposte.json\",\"r\"))\n",
    "dictRisposteEn=json.load(open(\"Risposte/2022-12-16/Inglese/sentimentRisposteEn.json\"))"
   ]
  },
  {
   "cell_type": "code",
   "execution_count": 440,
   "id": "84610dd9",
   "metadata": {},
   "outputs": [],
   "source": [
    "dictCommentiRisposte=copy.deepcopy(dictCommenti)"
   ]
  },
  {
   "cell_type": "code",
   "execution_count": 441,
   "id": "132fd322",
   "metadata": {},
   "outputs": [],
   "source": [
    "for profilo,d_video in dictCommentiRisposte.items():\n",
    "    for id_video,d_commenti in d_video.items():\n",
    "        for id_commento,commento in d_commenti.items():\n",
    "            if profilo in dictCommentiEn and id_video in dictCommentiEn[profilo] and id_commento in dictCommentiEn[profilo][id_video]:\n",
    "                commento[\"sentiment_vader\"]=dictCommentiEn[profilo][id_video][id_commento][\"sentiment_vader\"]\n",
    "                hs_tmp=copy.deepcopy(dictCommentiEn[profilo][id_video][id_commento][\"hate_speech\"])\n",
    "                commento[\"hate_speech\"]={\"top_class\":hs_tmp[\"top_class\"],\"classes\":{classes[\"class_name\"]:classes[\"confidence\"] for classes in hs_tmp[\"classes\"]}}\n",
    "                commento[\"emotion\"]=dictCommentiEn[profilo][id_video][id_commento][\"emotion\"]\n",
    "            \n",
    "            if profilo in dictRisposte and id_video in dictRisposte[profilo] and id_commento in dictRisposte[profilo][id_video] and dictRisposte[profilo][id_video][id_commento]:\n",
    "                commento[\"reply\"]=copy.deepcopy(dictRisposte[profilo][id_video][id_commento])\n",
    "                for id_risposta,risposta in commento[\"reply\"].items():\n",
    "                    if profilo in dictRisposteEn and id_video in dictRisposteEn[profilo] and id_commento in dictRisposteEn[profilo][id_video] and id_risposta in dictRisposteEn[profilo][id_video][id_commento]:\n",
    "                        risposta[\"sentiment_vader\"]=dictRisposteEn[profilo][id_video][id_commento][id_risposta][\"sentiment_vader\"]\n",
    "                        hs_tmp2=copy.deepcopy(dictRisposteEn[profilo][id_video][id_commento][id_risposta][\"hate_speech\"])\n",
    "                        risposta[\"hate_speech\"]={\"top_class\":hs_tmp2[\"top_class\"],\"classes\":{classes[\"class_name\"]:classes[\"confidence\"] for classes in hs_tmp2[\"classes\"]}}\n",
    "                        risposta[\"emotion\"]=dictRisposteEn[profilo][id_video][id_commento][id_risposta][\"emotion\"]"
   ]
  },
  {
   "cell_type": "code",
   "execution_count": 442,
   "id": "40742d6d",
   "metadata": {},
   "outputs": [],
   "source": [
    "json.dump(dictCommentiRisposte,open(\"commentiRisposte.json\",\"w\"))"
   ]
  },
  {
   "cell_type": "code",
   "execution_count": 444,
   "id": "e2cfac83",
   "metadata": {},
   "outputs": [],
   "source": [
    "for profilo,info_video in profili_analizzati_completo.items():\n",
    "    for id_video,video in info_video[\"video\"].items():\n",
    "        video[\"comment\"]=dictCommentiRisposte[profilo][id_video]"
   ]
  },
  {
   "cell_type": "code",
   "execution_count": 445,
   "id": "650d91af",
   "metadata": {},
   "outputs": [],
   "source": [
    "json.dump(profili_analizzati_completo,open(\"profili_analizzati_completo(sentiment_commenti_risposte_en).json\",\"w\"))"
   ]
  },
  {
   "cell_type": "markdown",
   "id": "84aca8d2",
   "metadata": {},
   "source": [
    "### Controllo numero commenti,risposte commenti"
   ]
  },
  {
   "cell_type": "code",
   "execution_count": 446,
   "id": "97320bfe",
   "metadata": {},
   "outputs": [],
   "source": [
    "dfLength=pd.DataFrame({\n",
    "      \"idVideo\":base_tiktok_video.format(profilo,id_video),\n",
    "      \"profilo\":profilo,\n",
    "      \"commentCount\":video[\"comment_count\"],\n",
    "      \"realCommentCount\":len(video[\"comment\"]),\n",
    "      \"replyCount\":sum([c[\"reply_total\"] for id_c,c in video[\"comment\"].items()]),\n",
    "      \"realReplyCommentCount\":sum([len(c[\"reply\"]) for id_c,c in video[\"comment\"].items() if \"reply\" in c])\n",
    "      } \n",
    "    for profilo,info_video in profili_analizzati_completo.items()\n",
    "    for id_video,video in info_video[\"video\"].items()\n",
    ").set_index(\"idVideo\")"
   ]
  },
  {
   "cell_type": "code",
   "execution_count": 447,
   "id": "e576c77c",
   "metadata": {},
   "outputs": [],
   "source": [
    "dfLength[\"totale\"]=dfLength[\"realCommentCount\"]+dfLength[\"realReplyCommentCount\"]"
   ]
  },
  {
   "cell_type": "code",
   "execution_count": 448,
   "id": "51819a16",
   "metadata": {},
   "outputs": [],
   "source": [
    "dfLength[\"perc\"]=dfLength[\"totale\"]/dfLength[\"commentCount\"]"
   ]
  },
  {
   "cell_type": "code",
   "execution_count": 454,
   "id": "e6d9c69d",
   "metadata": {},
   "outputs": [],
   "source": [
    "dfLength.filter(items=listaVideoInteressanti_file,axis=0).sort_values(by=\"commentCount\",ascending=False).to_excel(\"out2.xlsx\")"
   ]
  },
  {
   "cell_type": "code",
   "execution_count": 61,
   "id": "f3953725",
   "metadata": {},
   "outputs": [],
   "source": [
    "for cartella in [\"ocr\",\"ocr2\",\"ocr3\",\"ocr4\"]:\n",
    "    for profilo_t,video_t in listaVideoInteressanti_profilo_video:\n",
    "        shutil.copyfile(f\"video/{profilo_t}/{cartella}/{video_t}.txt\",f\"video/{profilo_t}/{cartella}/estratti/{video_t}.txt\")"
   ]
  },
  {
   "cell_type": "code",
   "execution_count": 7,
   "id": "b9f6556f",
   "metadata": {},
   "outputs": [],
   "source": [
    "from neo4j import GraphDatabase\n",
    "import json"
   ]
  },
  {
   "cell_type": "code",
   "execution_count": 8,
   "id": "94ff2d0b",
   "metadata": {},
   "outputs": [],
   "source": [
    "uri=\"\"\n",
    "user=\"\"\n",
    "password=\"\"\n",
    "driver = GraphDatabase.driver(uri, auth=(user, password))"
   ]
  },
  {
   "cell_type": "code",
   "execution_count": 9,
   "id": "9d38c3b5",
   "metadata": {},
   "outputs": [],
   "source": [
    "def deleteAll():\n",
    "    with driver.session() as session:\n",
    "        session.run(\"MATCH (n) DETACH DELETE n\")\n",
    "    driver.close()"
   ]
  },
  {
   "cell_type": "code",
   "execution_count": 10,
   "id": "65e1516b",
   "metadata": {},
   "outputs": [],
   "source": [
    "deleteAll()"
   ]
  },
  {
   "cell_type": "code",
   "execution_count": 11,
   "id": "41f9b5c5",
   "metadata": {},
   "outputs": [],
   "source": [
    "def creaProfiloPrincipale(tx, id, uniqueId, nickname, signature, followingCount, followerCount, heartCount, videoCount):\n",
    "    tx.run(\"\"\"\n",
    "    MERGE (user:User \n",
    "    {id: $id, \n",
    "    uniqueId: $uniqueId, \n",
    "    nickname: $nickname, \n",
    "    signature: $signature, \n",
    "    followingCount: $followingCount, \n",
    "    followerCount: $followerCount, \n",
    "    heartCount: $heartCount, \n",
    "    videoCount: $videoCount})\"\"\",\n",
    "    id=id, uniqueId=uniqueId, nickname=nickname, signature=signature, followingCount=followingCount, followerCount=followerCount, heartCount=heartCount, videoCount=videoCount)"
   ]
  },
  {
   "cell_type": "code",
   "execution_count": 12,
   "id": "e85be613",
   "metadata": {},
   "outputs": [],
   "source": [
    "with driver.session() as session:\n",
    "    for profilo,info in profili_analizzati_completo.items():\n",
    "        tmp=info[\"info\"][\"user\"]\n",
    "        tmp2=info[\"info\"][\"stats\"]\n",
    "        session.execute_write(creaProfiloPrincipale, id=tmp[\"id\"], uniqueId=tmp[\"uniqueId\"], nickname=tmp[\"nickname\"], signature=tmp[\"signature\"], followingCount=tmp2[\"followingCount\"], followerCount=tmp2[\"followerCount\"], heartCount=tmp2[\"heartCount\"], videoCount=tmp2[\"videoCount\"])\n",
    "driver.close()"
   ]
  },
  {
   "cell_type": "code",
   "execution_count": 13,
   "id": "d2b5c732",
   "metadata": {},
   "outputs": [],
   "source": [
    "def creaVideo(tx, id, profilo, region, title, duration, music_id, music_title, music_author, play_count, digg_count, comment_count, share_count, download_count, create_time):\n",
    "    tx.run(\"\"\"\n",
    "    MATCH (user:User)\n",
    "    WHERE user.uniqueId = $profilo\n",
    "    MERGE (musica:Music {id: $music_id, title: $music_title, author: $music_author})\n",
    "    MERGE (video:Video {id: $id, region: $region, title: $title, duration: $duration, play_count: $play_count, digg_count: $digg_count, comment_count: $comment_count, share_count: $share_count, download_count: $download_count, create_time: $create_time})\n",
    "    MERGE (video)-[:HAS_MUSIC]->(musica)\n",
    "    MERGE (user)-[:HAS_VIDEO]->(video)\n",
    "    \"\"\",id=id, profilo=profilo, region=region, title=title, duration=duration, music_id=music_id, music_title=music_title, music_author=music_author, play_count=play_count, digg_count=digg_count, comment_count=comment_count, share_count=share_count, download_count=download_count, create_time=create_time)"
   ]
  },
  {
   "cell_type": "code",
   "execution_count": 14,
   "id": "be931eed",
   "metadata": {},
   "outputs": [],
   "source": [
    "with driver.session() as session:\n",
    "    for profilo,dict_profilo in profili_analizzati_completo.items():\n",
    "        for id_video,dict_video in dict_profilo[\"video\"].items():\n",
    "            session.execute_write(creaVideo, id=id_video, profilo=profilo, region=dict_video[\"region\"], title=dict_video[\"title\"], duration=dict_video[\"duration\"], music_id=dict_video[\"music_info\"][\"id\"], music_title=dict_video[\"music_info\"][\"title\"], music_author=dict_video[\"music_info\"][\"author\"], play_count=dict_video[\"play_count\"], digg_count=dict_video[\"digg_count\"], comment_count=dict_video[\"comment_count\"], share_count=dict_video[\"share_count\"], download_count=dict_video[\"download_count\"], create_time=dict_video[\"create_time\"])\n",
    "driver.close()"
   ]
  },
  {
   "cell_type": "code",
   "execution_count": 16,
   "id": "86fa35c0",
   "metadata": {},
   "outputs": [],
   "source": [
    "# text\n",
    "# create_time\n",
    "# digg_count\n",
    "# reply_total\n",
    "# user id region unique_id nickname signature aweme_count follower_count                  favoriting_count                        total_favorited\n",
    "#      id,       uniqueId  nickname signature             followerCount  followingCount,                   heartCount, videoCount\n",
    "# sentiment_vader\n",
    "# hate_speech hate_speech offensive_language neither\n",
    "# emotion Happy Angry Surprise Sad Fear\n",
    "def creaCommento(tx, id, video_id, text, create_time, digg_count, reply_total, user_id, user_region, user_unique_id, user_nickname, user_signature, user_aweme_count, user_follower_count, user_favoriting_count, user_total_favorited, sentiment_vader, hate_speech, offensive_language, neither, happy, angry, surprise, sad, fear):\n",
    "    tx.run(\n",
    "    \"\"\"\n",
    "    MATCH (video:Video)\n",
    "    WHERE video.id = $video_id\n",
    "    MERGE (commento:Comment {id: $id, text: $text, create_time: $create_time, digg_count: $digg_count, reply_total: $reply_total, sentiment_vader: $sentiment_vader, hate_speech: $hate_speech, offensive_language: $offensive_language, neither: $neither, happy: $happy, angry: $angry, surprise: $surprise, sad: $sad, fear: $fear})\n",
    "    MERGE (utente:User {uniqueId: $user_unique_id})\n",
    "    ON CREATE SET utente.id = $user_id, utente.region = $user_region, utente.nickname = $user_nickname, utente.signature = $user_signature, utente.awemeCount = $user_aweme_count, utente.followerCount = $user_follower_count, utente.favoritingCount = $user_favoriting_count, utente.totalFavorited = $user_total_favorited\n",
    "    ON MATCH SET                        utente.region = $user_region,                                                                       utente.awemeCount = $user_aweme_count,                                              utente.favoritingCount = $user_favoriting_count, utente.totalFavorited = $user_total_favorited\n",
    "    MERGE (commento)-[:HAS_AUTHOR]->(utente)\n",
    "    MERGE (video)-[:HAS_COMMENT]->(commento)\n",
    "    \"\"\", id=id, video_id=video_id, text=text, create_time=create_time, digg_count=digg_count, reply_total=reply_total, user_id=user_id, user_region=user_region, user_unique_id=user_unique_id, user_nickname=user_nickname, user_signature=user_signature, user_aweme_count=user_aweme_count, user_follower_count=user_follower_count, user_favoriting_count=user_favoriting_count, user_total_favorited=user_total_favorited, sentiment_vader=sentiment_vader, hate_speech=hate_speech, offensive_language=offensive_language, neither=neither, happy=happy, angry=angry, surprise=surprise, sad=sad, fear=fear)"
   ]
  },
  {
   "cell_type": "code",
   "execution_count": 17,
   "id": "bc928994",
   "metadata": {},
   "outputs": [],
   "source": [
    "with driver.session() as session:\n",
    "    for profilo,dict_profilo in profili_analizzati_completo.items():\n",
    "        tmp=dict_profilo[\"video\"]\n",
    "        for id_video,dict_video in tmp.items():\n",
    "            tmp2=dict_video[\"comment\"]\n",
    "            for id_commento,dict_commento in tmp2.items():\n",
    "                if \"reply\" in dict_commento.keys() and \"sentiment_vader\" in dict_commento.keys():\n",
    "                    session.execute_write(creaCommento, id=id_commento, video_id=id_video, text=dict_commento[\"text\"], create_time=dict_commento[\"create_time\"], digg_count=dict_commento[\"digg_count\"], reply_total=dict_commento[\"reply_total\"], user_id=dict_commento[\"user\"][\"id\"], user_region=dict_commento[\"user\"][\"region\"], user_unique_id=dict_commento[\"user\"][\"unique_id\"], user_nickname=dict_commento[\"user\"][\"nickname\"], user_signature=dict_commento[\"user\"][\"signature\"], user_aweme_count=dict_commento[\"user\"][\"aweme_count\"], user_follower_count=dict_commento[\"user\"][\"follower_count\"], user_favoriting_count=dict_commento[\"user\"][\"favoriting_count\"], user_total_favorited=dict_commento[\"user\"][\"total_favorited\"], sentiment_vader=dict_commento[\"sentiment_vader\"], hate_speech=dict_commento[\"hate_speech\"][\"classes\"][\"hate_speech\"], offensive_language=dict_commento[\"hate_speech\"][\"classes\"][\"offensive_language\"], neither=dict_commento[\"hate_speech\"][\"classes\"][\"neither\"], happy=dict_commento[\"emotion\"][\"Happy\"], angry=dict_commento[\"emotion\"][\"Angry\"], surprise=dict_commento[\"emotion\"][\"Surprise\"], sad=dict_commento[\"emotion\"][\"Sad\"], fear=dict_commento[\"emotion\"][\"Fear\"])\n",
    "driver.close()"
   ]
  },
  {
   "cell_type": "code",
   "execution_count": 18,
   "id": "49bea438",
   "metadata": {},
   "outputs": [],
   "source": [
    "# text\n",
    "# create_time\n",
    "# digg_count\n",
    "# user, id region unique_id nickname signature aweme_count follower_count favoriting_count total_favorited\n",
    "# sentiment_vader\n",
    "# hate_speech, classes, hate_speech offensive_language neither\n",
    "# emotion, Happy Angry Surprise Sad Fear\n",
    "\n",
    "def creaRisposta(tx, id, commento_id, text, create_time, digg_count, user_id, user_region, user_unique_id, user_nickname, user_signature, user_aweme_count, user_follower_count, user_favoriting_count, user_total_favorited, sentiment_vader, hate_speech, offensive_language, neither, happy, angry, surprise, sad, fear):\n",
    "    tx.run(\n",
    "    \"\"\"\n",
    "    MATCH (commento:Comment)\n",
    "    WHERE commento.id = $commento_id\n",
    "    MERGE (risposta:Reply {id: $id, text: $text, create_time: $create_time, digg_count: $digg_count, sentiment_vader: $sentiment_vader, hate_speech: $hate_speech, offensive_language: $offensive_language, neither: $neither, happy: $happy, angry: $angry, surprise: $surprise, sad: $sad, fear: $fear})\n",
    "    MERGE (utente:User {uniqueId: $user_unique_id})\n",
    "    ON CREATE SET utente.id = $user_id, utente.region = $user_region, utente.nickname = $user_nickname, utente.signature = $user_signature, utente.awemeCount = $user_aweme_count, utente.followerCount = $user_follower_count, utente.favoritingCount = $user_favoriting_count, utente.totalFavorited = $user_total_favorited\n",
    "    ON MATCH SET                        utente.region = $user_region,                                                                       utente.awemeCount = $user_aweme_count,                                              utente.favoritingCount = $user_favoriting_count, utente.totalFavorited = $user_total_favorited\n",
    "    MERGE (risposta)-[:HAS_AUTHOR]->(utente)\n",
    "    MERGE (commento)-[:HAS_REPLY]->(risposta)\n",
    "    \"\"\", id=id, commento_id=commento_id, text=text, create_time=create_time, digg_count=digg_count, user_id=user_id, user_region=user_region, user_unique_id=user_unique_id, user_nickname=user_nickname, user_signature=user_signature, user_aweme_count=user_aweme_count, user_follower_count=user_follower_count, user_favoriting_count=user_favoriting_count, user_total_favorited=user_total_favorited, sentiment_vader=sentiment_vader, hate_speech=hate_speech, offensive_language=offensive_language, neither=neither, happy=happy, angry=angry, surprise=surprise, sad=sad, fear=fear)"
   ]
  },
  {
   "cell_type": "code",
   "execution_count": 19,
   "id": "1e0f8e49",
   "metadata": {},
   "outputs": [],
   "source": [
    "with driver.session() as session:\n",
    "    for profilo,dict_profilo in profili_analizzati_completo.items():\n",
    "        tmp=dict_profilo[\"video\"]\n",
    "        for id_video,dict_video in tmp.items():\n",
    "            tmp2=dict_video[\"comment\"]\n",
    "            for id_commento,dict_commento in tmp2.items():\n",
    "                if \"reply\" in dict_commento.keys() and \"sentiment_vader\" in dict_commento.keys():\n",
    "                    for id_risposta,dict_risposta in dict_commento[\"reply\"].items():\n",
    "                        if \"sentiment_vader\" in dict_risposta.keys():\n",
    "                            session.execute_write(creaRisposta, id=id_risposta, commento_id=id_commento, text=dict_risposta[\"text\"], create_time=dict_risposta[\"create_time\"], digg_count=dict_risposta[\"digg_count\"], user_id=dict_risposta[\"user\"][\"id\"], user_region=dict_risposta[\"user\"][\"region\"], user_unique_id=dict_risposta[\"user\"][\"unique_id\"], user_nickname=dict_risposta[\"user\"][\"nickname\"], user_signature=dict_risposta[\"user\"][\"signature\"], user_aweme_count=dict_risposta[\"user\"][\"aweme_count\"], user_follower_count=dict_risposta[\"user\"][\"follower_count\"], user_favoriting_count=dict_risposta[\"user\"][\"favoriting_count\"], user_total_favorited=dict_risposta[\"user\"][\"total_favorited\"], sentiment_vader=dict_risposta[\"sentiment_vader\"], hate_speech=dict_risposta[\"hate_speech\"][\"classes\"][\"hate_speech\"], offensive_language=dict_risposta[\"hate_speech\"][\"classes\"][\"offensive_language\"], neither=dict_risposta[\"hate_speech\"][\"classes\"][\"neither\"], happy=dict_risposta[\"emotion\"][\"Happy\"], angry=dict_risposta[\"emotion\"][\"Angry\"], surprise=dict_risposta[\"emotion\"][\"Surprise\"], sad=dict_risposta[\"emotion\"][\"Sad\"], fear=dict_risposta[\"emotion\"][\"Fear\"])\n",
    "driver.close()"
   ]
  },
  {
   "cell_type": "code",
   "execution_count": 45,
   "id": "c7812b21",
   "metadata": {},
   "outputs": [],
   "source": [
    "def creaEstrazioneOCR(tx, video_id, textOCR):\n",
    "    tx.run(\n",
    "    \"\"\"\n",
    "    MATCH (video:Video)\n",
    "    WHERE video.id = $video_id\n",
    "    MERGE (testoOCR:OCR {text: $textOCR})\n",
    "    MERGE (video)-[:HAS_OCR]->(testoOCR)\n",
    "    \"\"\",video_id=video_id, textOCR=textOCR)"
   ]
  },
  {
   "cell_type": "code",
   "execution_count": 46,
   "id": "1919f71d",
   "metadata": {},
   "outputs": [],
   "source": [
    "def creaEstrazioneAudio(tx, video_id,textAudio):\n",
    "    tx.run(\n",
    "    \"\"\"\n",
    "    MATCH (video:Video)\n",
    "    WHERE video.id = $video_id\n",
    "    MERGE (testoAudio:Transcript {text: $textAudio})\n",
    "    MERGE (video)-[:HAS_TRANSCRIPT]->(testoAudio)\n",
    "    \"\"\",video_id=video_id, textAudio=textAudio)"
   ]
  },
  {
   "cell_type": "code",
   "execution_count": 48,
   "id": "8dea8f7e",
   "metadata": {},
   "outputs": [],
   "source": [
    "for file in listaVideoInteressanti_file:\n",
    "    video_id=file.split(\"/\")[-1]\n",
    "    profilo=file.split(\"/\")[-3][1:]\n",
    "    textOCR=json.load(open(f\"../dati/video/{profilo}/ocr/estratti/{video_id}.txt\", \"r\"))[0]\n",
    "    textAudio=json.load(open(f\"../dati/video/{profilo}/audio/testo/{video_id}.txt\", \"r\"))\n",
    "    with driver.session() as session:\n",
    "        if textOCR: session.execute_write(creaEstrazioneOCR, video_id=video_id, textOCR=textOCR)\n",
    "        if textAudio: session.execute_write(creaEstrazioneAudio, video_id=video_id, textAudio=textAudio)\n",
    "driver.close()"
   ]
  },
  {
   "cell_type": "code",
   "execution_count": 190,
   "id": "3d4657a0",
   "metadata": {},
   "outputs": [],
   "source": [
    "profili_per_db={}\n",
    "musiche_per_db={}\n",
    "video_per_db={}\n",
    "commenti_per_db={}\n",
    "risposte_per_db={}"
   ]
  },
  {
   "cell_type": "code",
   "execution_count": 191,
   "id": "cbcffa8c",
   "metadata": {},
   "outputs": [],
   "source": [
    "for profilo,dict_profilo in profili_analizzati_completo.items():\n",
    "    profili_per_db[dict_profilo[\"info\"][\"user\"][\"id\"]]={\n",
    "        \"id\":dict_profilo[\"info\"][\"user\"][\"id\"],\n",
    "        \"uniqueId\":dict_profilo[\"info\"][\"user\"][\"uniqueId\"],\n",
    "        \"nickname\":dict_profilo[\"info\"][\"user\"][\"nickname\"],\n",
    "        \"signature\":dict_profilo[\"info\"][\"user\"][\"signature\"],\n",
    "        \"followingCount\":dict_profilo[\"info\"][\"stats\"][\"followingCount\"],\n",
    "        \"followerCount\":dict_profilo[\"info\"][\"stats\"][\"followerCount\"],\n",
    "        \"heartCount\":dict_profilo[\"info\"][\"stats\"][\"heartCount\"],\n",
    "        \"videoCount\":dict_profilo[\"info\"][\"stats\"][\"videoCount\"],\n",
    "        \"diggCount\":dict_profilo[\"info\"][\"stats\"][\"diggCount\"]\n",
    "    }\n",
    "    tmp=dict_profilo[\"video\"]\n",
    "    for id_video,dict_video in tmp.items():\n",
    "        video_per_db[id_video]={\n",
    "            \"id\":id_video,\n",
    "            \"id_profilo\":dict_profilo[\"info\"][\"user\"][\"id\"],\n",
    "            \"id_music\":dict_video[\"music_info\"][\"id\"],\n",
    "            \"region\":dict_video[\"region\"],\n",
    "            \"title\":dict_video[\"title\"],\n",
    "            \"duration\":dict_video[\"duration\"],\n",
    "            \"play_count\":dict_video[\"play_count\"],\n",
    "            \"digg_count\":dict_video[\"digg_count\"],\n",
    "            \"comment_count\":dict_video[\"comment_count\"],\n",
    "            \"share_count\":dict_video[\"share_count\"],\n",
    "            \"download_count\":dict_video[\"download_count\"],\n",
    "            \"create_time\":dict_video[\"create_time\"]\n",
    "        }\n",
    "        if dict_video[\"music_info\"][\"id\"] not in musiche_per_db.keys():\n",
    "            musiche_per_db[dict_video[\"music_info\"][\"id\"]]={\n",
    "                \"id\":dict_video[\"music_info\"][\"id\"],\n",
    "                \"title\":dict_video[\"music_info\"][\"title\"],\n",
    "                \"author\":dict_video[\"music_info\"][\"author\"]\n",
    "            }\n",
    "        tmp2=dict_video[\"comment\"]\n",
    "        for id_commento,dict_commento in tmp2.items():\n",
    "            if \"reply\" in dict_commento.keys() and \"sentiment_vader\" in dict_commento.keys():\n",
    "                commenti_per_db[id_commento]={\n",
    "                    \"id\":id_commento,\n",
    "                    \"id_video\":id_video,\n",
    "                    \"text\":dict_commento[\"text\"],\n",
    "                    \"create_time\":dict_commento[\"create_time\"],\n",
    "                    \"digg_count\":dict_commento[\"digg_count\"],\n",
    "                    \"user_id\":dict_commento[\"user\"][\"id\"],\n",
    "                    \"reply_total\":dict_commento[\"reply_total\"],\n",
    "                    \"sentiment_vader\":dict_commento[\"sentiment_vader\"],\n",
    "                    \"hate_speech\":dict_commento[\"hate_speech\"][\"classes\"][\"hate_speech\"],\n",
    "                    \"offensive_language\":dict_commento[\"hate_speech\"][\"classes\"][\"offensive_language\"],\n",
    "                    \"neither\":dict_commento[\"hate_speech\"][\"classes\"][\"neither\"],\n",
    "                    \"happy\":dict_commento[\"emotion\"][\"Happy\"],\n",
    "                    \"angry\":dict_commento[\"emotion\"][\"Angry\"],\n",
    "                    \"surprise\":dict_commento[\"emotion\"][\"Surprise\"],\n",
    "                    \"sad\":dict_commento[\"emotion\"][\"Sad\"],\n",
    "                    \"fear\":dict_commento[\"emotion\"][\"Fear\"]\n",
    "                }\n",
    "                if dict_commento[\"user\"][\"id\"] not in profili_per_db.keys():\n",
    "                    profili_per_db[dict_commento[\"user\"][\"id\"]]={\n",
    "                        \"id\":dict_commento[\"user\"][\"id\"],\n",
    "                        \"region\":dict_commento[\"user\"][\"region\"],\n",
    "                        \"uniqueId\":dict_commento[\"user\"][\"unique_id\"],\n",
    "                        \"nickname\":dict_commento[\"user\"][\"nickname\"],\n",
    "                        \"signature\":dict_commento[\"user\"][\"signature\"],\n",
    "                        \"awemeCount\":dict_commento[\"user\"][\"aweme_count\"],\n",
    "                        \"followerCount\":dict_commento[\"user\"][\"follower_count\"],\n",
    "                        \"favoritingCount\":dict_commento[\"user\"][\"favoriting_count\"],\n",
    "                        \"totalFavorited\":dict_commento[\"user\"][\"total_favorited\"]\n",
    "                    }\n",
    "                else:\n",
    "                    profili_per_db[dict_commento[\"user\"][\"id\"]][\"region\"]=dict_commento[\"user\"][\"region\"]\n",
    "                    profili_per_db[dict_commento[\"user\"][\"id\"]][\"awemeCount\"]=dict_commento[\"user\"][\"aweme_count\"]\n",
    "                    profili_per_db[dict_commento[\"user\"][\"id\"]][\"favoritingCount\"]=dict_commento[\"user\"][\"favoriting_count\"]\n",
    "                    profili_per_db[dict_commento[\"user\"][\"id\"]][\"totalFavorited\"]=dict_commento[\"user\"][\"total_favorited\"]\n",
    "                tmp3=dict_commento[\"reply\"]\n",
    "                for id_reply,dict_reply in tmp3.items():\n",
    "                    if \"sentiment_vader\" in dict_reply.keys():\n",
    "                        risposte_per_db[id_reply]={\n",
    "                            \"id\":id_reply,\n",
    "                            \"id_commento\":id_commento,\n",
    "                            \"text\":dict_reply[\"text\"],\n",
    "                            \"create_time\":dict_reply[\"create_time\"],\n",
    "                            \"digg_count\":dict_reply[\"digg_count\"],\n",
    "                            \"user_id\":dict_reply[\"user\"][\"id\"],\n",
    "                            \"sentiment_vader\":dict_reply[\"sentiment_vader\"],\n",
    "                            \"hate_speech\":dict_reply[\"hate_speech\"][\"classes\"][\"hate_speech\"],\n",
    "                            \"offensive_language\":dict_reply[\"hate_speech\"][\"classes\"][\"offensive_language\"],\n",
    "                            \"neither\":dict_reply[\"hate_speech\"][\"classes\"][\"neither\"],\n",
    "                            \"happy\":dict_reply[\"emotion\"][\"Happy\"],\n",
    "                            \"angry\":dict_reply[\"emotion\"][\"Angry\"],\n",
    "                            \"surprise\":dict_reply[\"emotion\"][\"Surprise\"],\n",
    "                            \"sad\":dict_reply[\"emotion\"][\"Sad\"],\n",
    "                            \"fear\":dict_reply[\"emotion\"][\"Fear\"]\n",
    "                        }\n",
    "                        if dict_reply[\"user\"][\"id\"] not in profili_per_db.keys():\n",
    "                            profili_per_db[dict_reply[\"user\"][\"id\"]]={\n",
    "                                \"id\":dict_reply[\"user\"][\"id\"],\n",
    "                                \"region\":dict_reply[\"user\"][\"region\"],\n",
    "                                \"uniqueId\":dict_reply[\"user\"][\"unique_id\"],\n",
    "                                \"nickname\":dict_reply[\"user\"][\"nickname\"],\n",
    "                                \"signature\":dict_reply[\"user\"][\"signature\"],\n",
    "                                \"awemeCount\":dict_reply[\"user\"][\"aweme_count\"],\n",
    "                                \"followerCount\":dict_reply[\"user\"][\"follower_count\"],\n",
    "                                \"favoritingCount\":dict_reply[\"user\"][\"favoriting_count\"],\n",
    "                                \"totalFavorited\":dict_reply[\"user\"][\"total_favorited\"]\n",
    "                            }\n",
    "                        else:\n",
    "                            profili_per_db[dict_reply[\"user\"][\"id\"]][\"region\"]=dict_reply[\"user\"][\"region\"]\n",
    "                            profili_per_db[dict_reply[\"user\"][\"id\"]][\"awemeCount\"]=dict_reply[\"user\"][\"aweme_count\"]\n",
    "                            profili_per_db[dict_reply[\"user\"][\"id\"]][\"favoritingCount\"]=dict_reply[\"user\"][\"favoriting_count\"]\n",
    "                            profili_per_db[dict_reply[\"user\"][\"id\"]][\"totalFavorited\"]=dict_reply[\"user\"][\"total_favorited\"]"
   ]
  },
  {
   "cell_type": "code",
   "execution_count": 295,
   "id": "6309a256",
   "metadata": {},
   "outputs": [],
   "source": [
    "sql_utenti=\"\"\"\n",
    "CREATE TABLE `users` (\n",
    "`id` bigint(20) NOT NULL,\n",
    "`uniqueId` varchar(100) NOT NULL,\n",
    "`region` varchar(100),\n",
    "`nickname` varchar(100),\n",
    "`signature` varchar(100),\n",
    "`awemeCount` varchar(100),\n",
    "`followerCount` bigint(20),\n",
    "`followingCount` bigint(20),\n",
    "`favoritingCount` bigint(20),\n",
    "`totalFavorited` bigint(20),\n",
    "`heartCount` bigint(20),\n",
    "`videoCount` bigint(20), \n",
    "PRIMARY KEY (`id`))\n",
    "\"\"\"\n",
    "\n",
    "insert_utenti=\"\"\"\n",
    "INSERT INTO `users` (\n",
    "    `id`, \n",
    "    `uniqueId`,\n",
    "    `region`, \n",
    "    `nickname`, \n",
    "    `signature`, \n",
    "    `awemeCount`, \n",
    "    `followerCount`, \n",
    "    `followingCount`, \n",
    "    `favoritingCount`, \n",
    "    `totalFavorited`, \n",
    "    `heartCount`, \n",
    "    `videoCount`)\n",
    "    VALUES (%s, %s, %s, %s, %s, %s, %s, %s, %s, %s, %s, %s)\n",
    "    \"\"\"\n",
    "insert_utenti2=\"\"\"\n",
    "INSERT INTO `users` (\n",
    "    `id`,\n",
    "    `uniqueId`,\n",
    "    `region`,\n",
    "    `nickname`,\n",
    "    `signature`,\n",
    "    `awemeCount`,\n",
    "    `followerCount`,\n",
    "    `favoritingCount`,\n",
    "    `totalFavorited`)\n",
    "    VALUES (%s, %s, %s, %s, %s, %s, %s, %s, %s)\n",
    "    \"\"\""
   ]
  },
  {
   "cell_type": "code",
   "execution_count": 296,
   "id": "b4087f5e",
   "metadata": {},
   "outputs": [],
   "source": [
    "sql_video= \"\"\"\n",
    "CREATE TABLE `video` (\n",
    "`id` bigint(20) NOT NULL, \n",
    "`id_profilo` bigint(20) NOT NULL, \n",
    "`id_music` bigint(20) NOT NULL, \n",
    "`region` varchar(100),\n",
    "`title` varchar(100),\n",
    "`duration` bigint(20),\n",
    "`playCount` bigint(20),\n",
    "`diggCount` bigint(20),\n",
    "`commentCount` bigint(20),\n",
    "`shareCount` bigint(20),\n",
    "`downloadCount` bigint(20),\n",
    "`createTime` bigint(20),\n",
    "PRIMARY KEY (`id`))\n",
    "\"\"\"\n",
    "insert_video=\"\"\"\n",
    "INSERT INTO `video` (\n",
    "    `id`,\n",
    "    `id_profilo`,\n",
    "    `id_music`,\n",
    "    `region`,\n",
    "    `title`,\n",
    "    `duration`,\n",
    "    `playCount`,\n",
    "    `diggCount`,\n",
    "    `commentCount`,\n",
    "    `shareCount`,\n",
    "    `downloadCount`,\n",
    "    `createTime`)\n",
    "    VALUES (%s, %s, %s, %s, %s, %s, %s, %s, %s, %s, %s, %s)\n",
    "    \"\"\""
   ]
  },
  {
   "cell_type": "code",
   "execution_count": 324,
   "id": "6186dad0",
   "metadata": {},
   "outputs": [],
   "source": [
    "sql_musiche=\"\"\"\n",
    "CREATE TABLE `musiche` (\n",
    "`id` bigint(20) NOT NULL,\n",
    "`title` varchar(100),\n",
    "`author` varchar(100),\n",
    "PRIMARY KEY (`id`))\n",
    "\"\"\"\n",
    "insert_musiche=\"\"\"\n",
    "INSERT INTO `musiche` (\n",
    "    `id`,\n",
    "    `title`,\n",
    "    `author`)\n",
    "    VALUES (%s, %s, %s)\n",
    "    \"\"\"\n"
   ]
  },
  {
   "cell_type": "code",
   "execution_count": 297,
   "id": "df40661c",
   "metadata": {},
   "outputs": [],
   "source": [
    "sql_commenti=\"\"\"\n",
    "CREATE TABLE `commenti` (\n",
    "`id` bigint(20) NOT NULL,\n",
    "`id_video` bigint(20) NOT NULL,\n",
    "`user_id` bigint(20) NOT NULL,\n",
    "`text` varchar(100),\n",
    "`create_time` bigint(20),\n",
    "`digg_count` bigint(20),\n",
    "`reply_total` bigint(20),\n",
    "`sentiment_vader` float(10),\n",
    "`hate_speech` float(10),\n",
    "`offensive_language` float(10),\n",
    "`neither` float(10),\n",
    "`happy` float(10),\n",
    "`angry` float(10),\n",
    "`surprise` float(10),\n",
    "`sad` float(10),\n",
    "`fear` float(10),\n",
    "PRIMARY KEY (`id`))\n",
    "\"\"\"\n",
    "insert_commenti=\"\"\"\n",
    "INSERT INTO `commenti` (\n",
    "    `id`,\n",
    "    `id_video`,\n",
    "    `user_id`,\n",
    "    `text`,\n",
    "    `create_time`,\n",
    "    `digg_count`,\n",
    "    `reply_total`,\n",
    "    `sentiment_vader`,\n",
    "    `hate_speech`,\n",
    "    `offensive_language`,\n",
    "    `neither`,\n",
    "    `happy`,\n",
    "    `angry`,\n",
    "    `surprise`,\n",
    "    `sad`,\n",
    "    `fear`)\n",
    "    VALUES (%s, %s, %s, %s, %s, %s, %s, %s, %s, %s, %s, %s, %s, %s, %s, %s)\n",
    "    \"\"\""
   ]
  },
  {
   "cell_type": "code",
   "execution_count": 168,
   "id": "4aee8627",
   "metadata": {},
   "outputs": [],
   "source": [
    "sql_region=\"\"\"\n",
    "CREATE TABLE `region` (\n",
    "`id` varchar(100) NOT NULL,\n",
    "`region` varchar(100),\n",
    "PRIMARY KEY (`id`))\n",
    "\"\"\"\n",
    "\n",
    "insert_region=\"\"\"\n",
    "INSERT INTO `region` (\n",
    "    `id`,\n",
    "    `region`)\n",
    "    VALUES (%s, %s)\n",
    "    \"\"\""
   ]
  },
  {
   "cell_type": "code",
   "execution_count": 298,
   "id": "3f4c6b71",
   "metadata": {},
   "outputs": [],
   "source": [
    "sql_risposte=\"\"\"\n",
    "CREATE TABLE `risposte` (\n",
    "`id` bigint(20) NOT NULL,\n",
    "`id_commento` bigint(20) NOT NULL,\n",
    "`user_id` bigint(20) NOT NULL,\n",
    "`text` varchar(100),\n",
    "`create_time` bigint(20),\n",
    "`digg_count` bigint(20),\n",
    "`sentiment_vader` float(10),\n",
    "`hate_speech` float(10),\n",
    "`offensive_language` float(10),\n",
    "`neither` float(10),\n",
    "`happy` float(10),\n",
    "`angry` float(10),\n",
    "`surprise` float(10),\n",
    "`sad` float(10),\n",
    "`fear` float(10),\n",
    "PRIMARY KEY (`id`))\n",
    "\"\"\"\n",
    "\n",
    "insert_risposte=\"\"\"\n",
    "INSERT INTO `risposte` (\n",
    "    `id`,\n",
    "    `id_commento`,\n",
    "    `user_id`,\n",
    "    `text`,\n",
    "    `create_time`,\n",
    "    `digg_count`,\n",
    "    `sentiment_vader`,\n",
    "    `hate_speech`,\n",
    "    `offensive_language`,\n",
    "    `neither`,\n",
    "    `happy`,\n",
    "    `angry`,\n",
    "    `surprise`,\n",
    "    `sad`,\n",
    "    `fear`)\n",
    "    VALUES (%s, %s, %s, %s, %s, %s, %s, %s, %s, %s, %s, %s, %s, %s, %s)\n",
    "    \"\"\""
   ]
  },
  {
   "cell_type": "code",
   "execution_count": 15,
   "id": "7b1a31ff",
   "metadata": {},
   "outputs": [],
   "source": [
    "import pymysql.cursors\n",
    "connection = pymysql.connect(host='',\n",
    "                             user='',\n",
    "                             password='',\n",
    "                             database='',\n",
    "                             cursorclass=pymysql.cursors.DictCursor)"
   ]
  },
  {
   "cell_type": "code",
   "execution_count": 326,
   "id": "7cf4056e",
   "metadata": {},
   "outputs": [],
   "source": [
    "connection.close()"
   ]
  },
  {
   "cell_type": "code",
   "execution_count": 318,
   "id": "bbe24da4",
   "metadata": {},
   "outputs": [],
   "source": [
    "with connection.cursor() as cursor:\n",
    "        for _,value in list(profili_per_db.items()):\n",
    "            if \"followingCount\" not in value.keys():\n",
    "                cursor.execute(insert_utenti2, (value[\"id\"],value[\"uniqueId\"], value[\"region\"], value[\"nickname\"], value[\"signature\"], value[\"awemeCount\"], value[\"followerCount\"], value[\"favoritingCount\"], value[\"totalFavorited\"]))\n",
    "            else:\n",
    "                cursor.execute(insert_utenti, (value[\"id\"], value[\"uniqueId\"], value[\"region\"], value[\"nickname\"], value[\"signature\"], value[\"awemeCount\"], value[\"followerCount\"], value[\"followingCount\"], value[\"favoritingCount\"], value[\"totalFavorited\"], value[\"heartCount\"], value[\"videoCount\"]))\n",
    "        #cursor.execute(sql_risposte)\n",
    "connection.commit()"
   ]
  },
  {
   "cell_type": "code",
   "execution_count": null,
   "id": "1f11518d",
   "metadata": {},
   "outputs": [],
   "source": [
    "with connection.cursor() as cursor:\n",
    "        for _,value in list(video_per_db.items()):\n",
    "                cursor.execute(insert_video, (value[\"id\"], value[\"id_profilo\"], value[\"id_music\"], value[\"region\"], value[\"title\"], value[\"duration\"], value[\"play_count\"], value[\"digg_count\"], value[\"comment_count\"], value[\"share_count\"], value[\"download_count\"], value[\"create_time\"]))\n",
    "connection.commit()"
   ]
  },
  {
   "cell_type": "code",
   "execution_count": 328,
   "id": "0828a75c",
   "metadata": {},
   "outputs": [],
   "source": [
    "with connection.cursor() as cursor:\n",
    "        for _,value in list(musiche_per_db.items()):\n",
    "                cursor.execute(insert_musiche, (value[\"id\"], value[\"title\"], value[\"author\"]))\n",
    "connection.commit()"
   ]
  },
  {
   "cell_type": "code",
   "execution_count": 322,
   "id": "9417071b",
   "metadata": {},
   "outputs": [],
   "source": [
    "with connection.cursor() as cursor:\n",
    "        for _,value in list(commenti_per_db.items()):\n",
    "                cursor.execute(insert_commenti, (value[\"id\"], value[\"id_video\"], value[\"user_id\"], value[\"text\"], value[\"create_time\"], value[\"digg_count\"], value[\"reply_total\"], value[\"sentiment_vader\"], value[\"hate_speech\"], value[\"offensive_language\"], value[\"neither\"], value[\"happy\"], value[\"angry\"], value[\"surprise\"], value[\"sad\"], value[\"fear\"]))\n",
    "connection.commit()"
   ]
  },
  {
   "cell_type": "code",
   "execution_count": 323,
   "id": "7c2c0669",
   "metadata": {},
   "outputs": [],
   "source": [
    "with connection.cursor() as cursor:\n",
    "        for _,value in list(risposte_per_db.items()):\n",
    "                cursor.execute(insert_risposte, (value[\"id\"], value[\"id_commento\"], value[\"user_id\"], value[\"text\"], value[\"create_time\"], value[\"digg_count\"], value[\"sentiment_vader\"], value[\"hate_speech\"], value[\"offensive_language\"], value[\"neither\"], value[\"happy\"], value[\"angry\"], value[\"surprise\"], value[\"sad\"], value[\"fear\"]))\n",
    "connection.commit()"
   ]
  },
  {
   "cell_type": "code",
   "execution_count": 171,
   "id": "1bf0373f",
   "metadata": {},
   "outputs": [],
   "source": [
    "with connection.cursor() as cursor:\n",
    "        cursor.execute(sql_region)\n",
    "        for code,region in data.items():\n",
    "                cursor.execute(insert_region, (code, region))\n",
    "connection.commit()"
   ]
  }
 ],
 "metadata": {
  "kernelspec": {
   "display_name": "Python 3 (ipykernel)",
   "language": "python",
   "name": "python3"
  },
  "language_info": {
   "codemirror_mode": {
    "name": "ipython",
    "version": 3
   },
   "file_extension": ".py",
   "mimetype": "text/x-python",
   "name": "python",
   "nbconvert_exporter": "python",
   "pygments_lexer": "ipython3",
   "version": "3.9.15"
  },
  "vscode": {
   "interpreter": {
    "hash": "ec76991d0860adaf78ab5634b30736a0f0139c5ffeb4067a4f20bf8be619f0a3"
   }
  }
 },
 "nbformat": 4,
 "nbformat_minor": 5
}
