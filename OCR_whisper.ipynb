{
 "cells": [
  {
   "cell_type": "code",
   "execution_count": 1,
   "id": "8de65f36",
   "metadata": {},
   "outputs": [],
   "source": [
    "import requests\n",
    "import cv2\n",
    "import numpy as np\n",
    "import contextlib\n",
    "import os\n",
    "import json\n",
    "from paddleocr import PaddleOCR\n",
    "ocr = PaddleOCR(use_angle_cls=False, lang='en',show_log=False,ocr_version=\"PP-OCRv3\")\n",
    "import moviepy.editor as mp\n",
    "import whisper\n",
    "model = whisper.load_model(\"base.en\")\n",
    "model2 = whisper.load_model(\"base\")\n",
    "import ast"
   ]
  },
  {
   "cell_type": "code",
   "execution_count": null,
   "id": "4620bf84",
   "metadata": {},
   "outputs": [],
   "source": [
    "profili=[\"lilyebert\",\"tovafriedman\",\"thetrueadventures\"]"
   ]
  },
  {
   "cell_type": "code",
   "execution_count": 12,
   "id": "21d21d3a",
   "metadata": {},
   "outputs": [],
   "source": [
    "def get_from_api(api,params,**kwargs):\n",
    "    # domain='https://www.tikwm.com/'\n",
    "    domain=\"https://tiktok-video-no-watermark2.p.rapidapi.com/\"\n",
    "    headers = {\n",
    "        \"X-RapidAPI-Key\": \"\",\n",
    "        \"X-RapidAPI-Host\": \"\"\n",
    "    }\n",
    "    res = requests.get(\n",
    "    url=domain+api,\n",
    "    headers = headers,\n",
    "    params = params,\n",
    "    **kwargs)\n",
    "    try:\n",
    "        if res.status_code==429: return (res,None)\n",
    "        return (res, res.json()['data']) if res.json()['code'] == 0 else (res, None)\n",
    "    except:\n",
    "        print(\"log\")\n",
    "        with open(\"log.txt\",\"a\") as f:\n",
    "            f.write(str(res.status_code))\n",
    "            f.write(str(res.json()))\n",
    "            f.write(\"\")            \n",
    "        return (None,None)"
   ]
  },
  {
   "cell_type": "code",
   "execution_count": 13,
   "id": "6af5bc76",
   "metadata": {},
   "outputs": [],
   "source": [
    "def get_video_info(url,**kwargs):\n",
    "    return get_from_api('', params={\"url\": url,\"web\": 1, \"hd\": 1},**kwargs)"
   ]
  },
  {
   "cell_type": "code",
   "execution_count": 14,
   "id": "7940e818",
   "metadata": {},
   "outputs": [],
   "source": [
    "def download_no_watermark(url, filename):\n",
    "    res,data=get_video_info(url)\n",
    "    if data is None:\n",
    "        return False\n",
    "    url_no_watermark = 'https://www.tikwm.com' + data[\"play\"]\n",
    "    r = requests.get(url_no_watermark)\n",
    "    with open(filename, 'wb') as outfile:\n",
    "        outfile.write(r.content)\n",
    "    return True"
   ]
  },
  {
   "cell_type": "code",
   "execution_count": 2,
   "id": "9b06deb7",
   "metadata": {},
   "outputs": [],
   "source": [
    "def get_saving_frames_durations(cap, saving_fps):\n",
    "    clip_duration = cap.get(cv2.CAP_PROP_FRAME_COUNT) / cap.get(cv2.CAP_PROP_FPS)\n",
    "    return list(np.arange(0, clip_duration, 1 / saving_fps))\n",
    "\n",
    "def process(video,SAVING_FRAMES_PER_SECOND):\n",
    "    cap=cv2.VideoCapture(video)  \n",
    "    fps = cap.get(cv2.CAP_PROP_FPS)\n",
    "    saving_frames_per_second = min(fps, SAVING_FRAMES_PER_SECOND)\n",
    "    saving_frames_durations = get_saving_frames_durations(cap, saving_frames_per_second)\n",
    "    index = 0\n",
    "    out=[]\n",
    "    while True:\n",
    "        is_read, frame = cap.read()\n",
    "        if not is_read:\n",
    "            break\n",
    "        frame_duration = index / fps\n",
    "        try:\n",
    "            closest_duration = saving_frames_durations[0]\n",
    "        except IndexError:\n",
    "            break\n",
    "        if frame_duration >= closest_duration:\n",
    "            out.append(frame)\n",
    "            with contextlib.suppress(IndexError):\n",
    "                saving_frames_durations.pop(0)\n",
    "        index += 1\n",
    "    cap.release()\n",
    "    cv2.destroyAllWindows()\n",
    "    return out"
   ]
  },
  {
   "cell_type": "code",
   "execution_count": null,
   "id": "25e7ad5b",
   "metadata": {},
   "outputs": [],
   "source": [
    "profili_analizzati=json.load(open(\"profili_analizzati.json\"))"
   ]
  },
  {
   "cell_type": "code",
   "execution_count": null,
   "id": "45051edb",
   "metadata": {},
   "outputs": [],
   "source": [
    "for profilo,value in profili_analizzati.items():\n",
    "    l_video=os.listdir(f\"../Video/2022-12-09/{profilo}\")\n",
    "    for video_id in value[\"video\"].keys():\n",
    "        if f\"{video_id}.mp4\" not in l_video:\n",
    "            if not download_no_watermark(video_id,f\"video/{profilo}/{video_id}.mp4\"):\n",
    "                print(f\"Errore nel download del video {video_id}\")"
   ]
  },
  {
   "cell_type": "code",
   "execution_count": 50,
   "id": "ea73cb82",
   "metadata": {},
   "outputs": [],
   "source": [
    "lista_interessanti=json.load(open(\"lista_interessanti.txt\",\"r\"))\n",
    "lista_interessanti_profilo_video=[(video.split(\"/\")[-3][1:],video.split(\"/\")[-1]) for video in lista_interessanti]"
   ]
  },
  {
   "cell_type": "code",
   "execution_count": null,
   "id": "2e6bac30",
   "metadata": {},
   "outputs": [],
   "source": [
    "for profilo,video in lista_interessanti_profilo_video:\n",
    "    img_array=process(f\"{profilo}/{video}.mp4\",1)\n",
    "    complete=[]\n",
    "    for img in img_array:\n",
    "        result = ocr.ocr(img, cls=False)\n",
    "        result_tmp=[val2[-1][0] for val in result for val2 in val]\n",
    "        complete.append(result_tmp)\n",
    "    json.dump(complete,open(f\"nuovi_video/{profilo}_{video}.txt\",\"w\"))"
   ]
  },
  {
   "cell_type": "code",
   "execution_count": 86,
   "id": "48bba28c",
   "metadata": {},
   "outputs": [],
   "source": [
    "lista_ocr=[file for file in os.listdir() if file[-3:]==\"txt\"]"
   ]
  },
  {
   "cell_type": "code",
   "execution_count": 96,
   "id": "8f247c88",
   "metadata": {},
   "outputs": [],
   "source": [
    "for file in lista_ocr:\n",
    "    with open(file,\"r\") as f:\n",
    "        lista=ast.literal_eval(f.read())\n",
    "        testo_completo=[]\n",
    "        for frase in lista:\n",
    "            frase=\" \".join(frase)\n",
    "            if not testo_completo or frase!=testo_completo[-1]:\n",
    "                testo_completo.append(frase)\n",
    "        json.dump(testo_completo,open(f\"testo_unito/{file}\",\"w\"))"
   ]
  },
  {
   "cell_type": "code",
   "execution_count": null,
   "id": "c2762e3e",
   "metadata": {
    "collapsed": true
   },
   "outputs": [],
   "source": [
    "base=\"video/lilyebert\"\n",
    "lista_video=os.listdir(base)\n",
    "lista_ocr=os.listdir(f\"{base}/ocr\")\n",
    "\n",
    "for video in lista_video:\n",
    "    filename_ocr=f\"{video[:-4]}.txt\"\n",
    "    filetype=video[-3:]\n",
    "    if filename_ocr in lista_ocr or filetype!=\"mp4\":\n",
    "        continue\n",
    "    img_array=process(f\"{base}/{video}\",1)\n",
    "    complete=[]\n",
    "    for img in img_array:\n",
    "        result = ocr.ocr(img, cls=True)\n",
    "        text= \" \".join(val2[-1][0] for val in result for val2 in val)\n",
    "        if text not in complete:\n",
    "            complete.append(text)\n",
    "    json.dump(complete,open(f\"{base}/ocr/{filename_ocr}\",\"w\"))\n",
    "    lista_ocr.append(filename_ocr)"
   ]
  },
  {
   "cell_type": "code",
   "execution_count": null,
   "id": "73113ffb",
   "metadata": {},
   "outputs": [],
   "source": [
    "for p in profili:\n",
    "    video_pa=[v for v in os.listdir(p) if v[-3:]==\"mp4\"]\n",
    "    for v in video_pa:\n",
    "        videoTmp=mp.VideoFileClip(f\"{p}/{v}\")\n",
    "        videoTmp.audio.write_audiofile(f\"{p}/audio/{v[:-3]}mp3\",logger=None, verbose=False)"
   ]
  },
  {
   "cell_type": "code",
   "execution_count": 24,
   "id": "046f6e16",
   "metadata": {},
   "outputs": [],
   "source": [
    "profilo_audio=[(stringa.split(\"/\")[-3][1:],f\"{stringa.split('/')[-1]}.mp3\") for stringa in lista_interessanti]"
   ]
  },
  {
   "cell_type": "code",
   "execution_count": null,
   "id": "0f889c9f",
   "metadata": {},
   "outputs": [],
   "source": [
    "for profilo,audio in profilo_audio:\n",
    "    result = model.transcribe(f\"{profilo}/audio/{audio}\",fp16=False)\n",
    "    json.dump(result[\"text\"],open(f\"{profilo}/audio/testo/{audio[:-3]}txt\",\"w\"))"
   ]
  }
 ],
 "metadata": {
  "kernelspec": {
   "display_name": "Python 3 (ipykernel)",
   "language": "python",
   "name": "python3"
  },
  "language_info": {
   "codemirror_mode": {
    "name": "ipython",
    "version": 3
   },
   "file_extension": ".py",
   "mimetype": "text/x-python",
   "name": "python",
   "nbconvert_exporter": "python",
   "pygments_lexer": "ipython3",
   "version": "3.9.15"
  },
  "vscode": {
   "interpreter": {
    "hash": "ec76991d0860adaf78ab5634b30736a0f0139c5ffeb4067a4f20bf8be619f0a3"
   }
  }
 },
 "nbformat": 4,
 "nbformat_minor": 5
}
