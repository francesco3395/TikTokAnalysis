{
 "cells": [
  {
   "cell_type": "code",
   "execution_count": null,
   "id": "2ade5576",
   "metadata": {},
   "outputs": [],
   "source": [
    "import json\n",
    "import text2emotion as te\n",
    "from hatesonar import Sonar\n",
    "sonar = Sonar()\n",
    "from vaderSentiment.vaderSentiment import SentimentIntensityAnalyzer\n",
    "analyzer = SentimentIntensityAnalyzer()\n",
    "import emoji\n",
    "replace_emoji = lambda x: emoji.replace_emoji(x).strip()\n",
    "demojize = lambda x: emoji.demojize(x).replace(\":\",\" \").replace(\"_\",\" \")"
   ]
  },
  {
   "cell_type": "code",
   "execution_count": 2,
   "id": "f410a0e3",
   "metadata": {},
   "outputs": [],
   "source": [
    "def sentiment_vader(text):\n",
    "    return analyzer.polarity_scores(text)[\"compound\"]"
   ]
  },
  {
   "cell_type": "code",
   "execution_count": 5,
   "id": "2f166320",
   "metadata": {},
   "outputs": [],
   "source": [
    "dictCommenti=json.load(open(\"Commenti/2022-12-16/Inglese/sentimentCommentiEn.json\",\"r\"))"
   ]
  },
  {
   "cell_type": "code",
   "execution_count": null,
   "id": "148528bd",
   "metadata": {},
   "outputs": [],
   "source": [
    "for profilo,d_video in dictCommenti.items():\n",
    "    for id_video,d_commenti in d_video.items():\n",
    "        for id_commento,commento in d_commenti.items():\n",
    "            commento[\"sentiment_vader\"]=sentiment_vader(commento[\"text\"])\n",
    "            commento[\"hate_speech\"]=sonar.ping(text=commento[\"text\"])\n",
    "            commento[\"emotion\"]=te.get_emotion(commento[\"text\"])"
   ]
  },
  {
   "cell_type": "code",
   "execution_count": 17,
   "id": "cbf16a96",
   "metadata": {},
   "outputs": [],
   "source": [
    "json.dump(dictCommenti,open(\"dictSentimentCommenti.json\",\"w\"))"
   ]
  },
  {
   "cell_type": "code",
   "execution_count": 19,
   "id": "ea1ce1fb",
   "metadata": {},
   "outputs": [],
   "source": [
    "dictRisposte=json.load(open(\"Risposte/Inglese/sentimentRisposteEn.json\",\"r\"))"
   ]
  },
  {
   "cell_type": "code",
   "execution_count": null,
   "id": "c02c519e",
   "metadata": {},
   "outputs": [],
   "source": [
    "for profilo,d_video in dictRisposte.items():\n",
    "    for id_video,d_commenti in d_video.items():\n",
    "        for id_commento,d_risposte in d_commenti.items():\n",
    "            for id_risposta,risposta in d_risposte.items():\n",
    "                risposta[\"sentiment_vader\"]=sentiment_vader(risposta[\"text\"])\n",
    "                risposta[\"hate_speech\"]=sonar.ping(text=risposta[\"text\"])\n",
    "                risposta[\"emotion\"]=te.get_emotion(risposta[\"text\"])"
   ]
  },
  {
   "cell_type": "code",
   "execution_count": 22,
   "id": "3ad636de",
   "metadata": {},
   "outputs": [],
   "source": [
    "json.dump(dictRisposte,open(\"dictSentimentRisposte.json\",\"w\"))"
   ]
  }
 ],
 "metadata": {
  "kernelspec": {
   "display_name": "Python 3",
   "language": "python",
   "name": "python3"
  },
  "language_info": {
   "codemirror_mode": {
    "name": "ipython",
    "version": 3
   },
   "file_extension": ".py",
   "mimetype": "text/x-python",
   "name": "python",
   "nbconvert_exporter": "python",
   "pygments_lexer": "ipython3",
   "version": "3.9.13"
  },
  "vscode": {
   "interpreter": {
    "hash": "1f79669730af15379b45e3b4b3a021aae08eaa5ba3d8945910f33b5c6ed821c2"
   }
  }
 },
 "nbformat": 4,
 "nbformat_minor": 5
}
